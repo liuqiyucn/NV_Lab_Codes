{
 "cells": [
  {
   "cell_type": "markdown",
   "id": "24f92717-1f4f-4dad-91c5-72def676999d",
   "metadata": {},
   "source": [
    "## Introduction and Initialization\n",
    "This sheet is designed to introduce the instruments used in this lab class and their associated control commands. It can be used initially for understanding the basic functionalities and command structures, but can also be used as a reference throughout the lab class for the control functions used over the whole class.\n",
    "\n",
    "The below 2 cells are used for the imports and initializations of the instruments for the python document. Note that once a device is initilized, the communication port will only be addressable with this document's kernal. In order to use the instrument in a different document, you need to reset the kernal in the document the devices are initialized in."
   ]
  },
  {
   "cell_type": "code",
   "execution_count": 1,
   "id": "43493f76-f7f4-480d-902c-1ce17e5b99b0",
   "metadata": {
    "tags": []
   },
   "outputs": [
    {
     "name": "stdout",
     "output_type": "stream",
     "text": [
      "Logging hadn't been started.\n",
      "Activating auto-logging. Current session state plus future input saved.\n",
      "Filename       : C:\\Users\\mqst_admin\\.qcodes\\logs\\command_history.log\n",
      "Mode           : append\n",
      "Output logging : True\n",
      "Raw input log  : False\n",
      "Timestamping   : True\n",
      "State          : active\n",
      "Qcodes Logfile : C:\\Users\\mqst_admin\\.qcodes\\logs\\240312-5772-qcodes.log\n"
     ]
    }
   ],
   "source": [
    "%matplotlib inline\n",
    "from pathlib import Path\n",
    "from time import monotonic, sleep\n",
    "\n",
    "import numpy as np\n",
    "import matplotlib.pyplot as plt\n",
    "import math\n",
    "\n",
    "import qcodes as qc\n",
    "from qcodes.dataset import (\n",
    "    Measurement,\n",
    "    initialise_or_create_database_at,\n",
    "    load_by_guid,\n",
    "    load_by_run_spec,\n",
    "    load_or_create_experiment,\n",
    "    plot_dataset,\n",
    ")\n",
    "from qcodes.dataset.descriptions.detect_shapes import detect_shape_of_measurement\n",
    "from qcodes.logger import start_all_logging\n",
    "start_all_logging()\n",
    "\n",
    "from scipy.optimize import curve_fit\n",
    "import numpy as np\n",
    "\n",
    "from ultolib import (anritsu, korad, spincore)\n",
    "from ultolib.spincore import pulse\n",
    "import qcodes.instrument_drivers.stanford_research as stanford_research"
   ]
  },
  {
   "cell_type": "code",
   "execution_count": 2,
   "id": "3a65303e-fc46-47f5-a9b8-6333aeb34fcc",
   "metadata": {
    "tags": []
   },
   "outputs": [
    {
     "name": "stdout",
     "output_type": "stream",
     "text": [
      "Connected to: Stanford_Research_Systems SR830 (serial:s/n32132, firmware:ver1.07) in 0.34s\n",
      "Connected to: None microwave_src (serial:None, firmware:None) in 5.11s\n"
     ]
    }
   ],
   "source": [
    "#Initialize Instruments:\n",
    "# Note : this will generate two deprecation warnings when creating the pulse_blaster\n",
    "pulse_blaster = spincore.PulseBlasterESRPRO(name='pulse_blaster', board_number=0)\n",
    "pulse_blaster.core_clock(500)                     #Sets the clock speed to 500 MHz\n",
    "                                                  #must be called immediately after connecting to the PulseBlaster\n",
    "lock_in_amp = stanford_research.SR830(name='lock_in_amp', address='ASRL5::INSTR', terminator='\\r')\n",
    "microwave_src=anritsu.MG3681A(name='microwave_src', address='ASRL4::INSTR', terminator='\\r\\n')\n",
    "\n",
    "#Don't think this is at all nesissary\n",
    "#station=qc.Station(pulse_blaster, lock_in_amp, microwave_src)"
   ]
  },
  {
   "cell_type": "markdown",
   "id": "50d115ed-0277-4341-ac81-2aa609a914ef",
   "metadata": {},
   "source": [
    "## Stanford Research Systems SR830 Lock In Amplifier Commands\n",
    "The code blocks below show examples of how to control components of the SR830 LIA programatically."
   ]
  },
  {
   "cell_type": "code",
   "execution_count": null,
   "id": "ab9559e1-ef9e-4c1b-9587-f4bb61400b94",
   "metadata": {
    "tags": []
   },
   "outputs": [],
   "source": [
    "#This code brick shows how to programmatically change the time constant and sensativity settings found in the top left corner of the LIA interface\n",
    "\n",
    "#Set the lock-in amplifier time constant and sensivity using the code segment below.\n",
    "lock_in_amp.time_constant(3) #This can be set to s, ms, us, or ns with leading numbers of 1, 3, or 5. E.g. 30ns is 30e-9 or 5ms is 5e-3.\n",
    "print(f\"Time constant = {lock_in_amp.time_constant()}\")\n",
    "\n",
    "# 'a', 'a-b', 'I 1M', 'I 100M' -> a for voltage, I 1M or I 100M for current. NOTE: You will largely be using the voltage mode.\n",
    "lock_in_amp.input_config('a')\n",
    "\n",
    "#When setting amps:\n",
    "#lock_in_amp.sensitivity(50e-12) #uA, nA, pA, fA, or aA with leading number 1, 2, or 5. E.g. 200 fA is 200e-15 or 1uA is 1e-6\n",
    "#When setting volts:\n",
    "lock_in_amp.sensitivity(5e-6) #V, mV, uV, nV, or pV with leading number 1, 2, or 5. E.g. 200 nV is 200e-9 or 1mV is 1e-3\n",
    "print(f\"Sensitivity = {lock_in_amp.sensitivity()}\")"
   ]
  },
  {
   "cell_type": "code",
   "execution_count": null,
   "id": "4e477e02-3ad7-4a53-8cc9-7c270fc4c24e",
   "metadata": {
    "tags": []
   },
   "outputs": [],
   "source": [
    "#This code brick shows how to retrieve values, as shown on the displays.\n",
    "\n",
    "#'X', 'Y', 'R', and 'P' -> X, Y are cartesian representations, where as R and P are polar representations of the signal.\n",
    "#NOTE: Even if a command is sent to read all 4 at the same time, R and P are given at different timings from X and Y, so the data that's retreived won't be synchronized.\n",
    "print(lock_in_amp.snap(\"X\", \"Y\", 'R', 'P'))\n",
    "#Alternatively:\n",
    "print(lock_in_amp.X()) #Cartesian Coordinate Geometry\n",
    "print(lock_in_amp.Y()) #Cartesian Coordinate Geometry\n",
    "print(lock_in_amp.R()) #Radial Polar Coordinate: R = sqrt(X^2 + Y^2)\n",
    "lock_in_amp.P() #Phase Polar Coordinate: P = tan^-1(X/Y)\n",
    "#NOTE: R will be sufficient for the experiments done in this lab."
   ]
  },
  {
   "cell_type": "code",
   "execution_count": null,
   "id": "8bdb01c8-b12b-49c1-b05e-44edf61fed5c",
   "metadata": {
    "tags": []
   },
   "outputs": [],
   "source": [
    "#This code brick shows how to adjust the reference settings found on the right side of the LIA interface.\n",
    "\n",
    "#Reference Source is used to chose if the lock-in amplifier uses an internal reference source, set by the user between 1mHz and 102kHz, \n",
    "#or an external refference source through the \"REF IN\" input.\n",
    "lock_in_amp.reference_source.set('internal') #'internal' for settable or 'external' for reading from the reference in channel.\n",
    "lock_in_amp.frequency(12001) #Set the internal refference frequency (between 1e-3 and 102e3 Hz). Keep in mind that if this is set to external, this won't visially change anything.\n",
    "print(lock_in_amp.frequency()) #Retreives the current refrence frequency.\n",
    "\n",
    "#Set to external for use later in the document.\n",
    "lock_in_amp.reference_source.set('external')"
   ]
  },
  {
   "cell_type": "markdown",
   "id": "af694fe2-e1a0-4768-bc82-1ea439b8fcbe",
   "metadata": {
    "tags": []
   },
   "source": [
    "## PulseBlasterUSB Commands\n",
    "The code blocks below show examples of how to control components of the PulseBlasterUSB programatically."
   ]
  },
  {
   "cell_type": "code",
   "execution_count": 5,
   "id": "0788366f-991b-4bcc-941a-992495dcb6ed",
   "metadata": {
    "tags": []
   },
   "outputs": [
    {
     "data": {
      "image/png": "[encoded data removed]",
      "text/plain": [
       "<Figure size 640x480 with 1 Axes>"
      ]
     },
     "metadata": {},
     "output_type": "display_data"
    }
   ],
   "source": [
    "#You have access to channels 0-3 to pulse with. This allows you to control multiple devices with the same timing under PulseBlaster's internal reference clock.\n",
    "ref_f = 200                           #The lock-in amplifier reference frequence.\n",
    "ref_D = 0.5                           #The lock-in amplifier reference duty cycle.\n",
    "T_ref_on = ref_D/ ref_f               #Gets the time for the active TTL signal\n",
    "T_ref_off = (1 - ref_D)/ ref_f        #Gets the time for the inactive TTL signal\n",
    "pulse_blaster.reset_channel_buffer()  #Clear the previous pulse sequence.\n",
    "pulse_blaster.ch1.pulse_sequence_buffer.set( #Note that ch0 indicates the bit this is programming to. Use ch0, ch1, ch2, or ch3 for the respective bits when prograqmming.\n",
    "    [pulse(level=1, duration=T_ref_on), pulse(level=0, duration=T_ref_off)]\n",
    ")                                     #Define the new pulse sequence\n",
    "pulse_blaster.plot_channel_buffer()   #This function plots the newly defined pulse sequence."
   ]
  },
  {
   "cell_type": "markdown",
   "id": "61afd5ef-c9d0-4777-a385-93e0e09c36b6",
   "metadata": {},
   "source": [
    "Now plug your bit 0 input into the oscilliscope and run this code block. You should see the active TTL signal on the device."
   ]
  },
  {
   "cell_type": "code",
   "execution_count": 6,
   "id": "14c8fe97-4dec-4aae-8806-4c1e4cf2132b",
   "metadata": {},
   "outputs": [],
   "source": [
    "pulse_blaster.flush_channel_buffer()"
   ]
  },
  {
   "cell_type": "markdown",
   "id": "b0a4032b-87bc-4cc8-8931-7034b314c94d",
   "metadata": {},
   "source": [
    "Now plug bit 0 back into the REF IN input of the Lock-In Amplifier and observe the reference frequency. To stop the TTL signal, run the code block below."
   ]
  },
  {
   "cell_type": "code",
   "execution_count": 7,
   "id": "ba24e407-ae70-41aa-bf46-b7ae20584687",
   "metadata": {
    "tags": []
   },
   "outputs": [
    {
     "data": {
      "text/plain": [
       "0"
      ]
     },
     "execution_count": 7,
     "metadata": {},
     "output_type": "execute_result"
    }
   ],
   "source": [
    "pulse_blaster.stop()"
   ]
  },
  {
   "cell_type": "markdown",
   "id": "40d1e0b9-b7b2-4783-9bc8-6a275836dce1",
   "metadata": {},
   "source": [
    "Keep in mind that once flushed, the PulseBlaster will continue to send out the provided pulse sequence until either the device is turned off or the stop() command is run as above, even if the kernal is reset."
   ]
  },
  {
   "cell_type": "markdown",
   "id": "f1a33181-780c-47e1-abdc-413307935808",
   "metadata": {},
   "source": [
    "## MG3681A Digital Modulation Signal Generator Commands\n",
    "The code blocks below show examples of how to control components of the MG3681A programatically.\n",
    "\n",
    "Note: DO NOT turn the RF output on without the RF output plugged into the RF coil, or you will likely break the MG3681A's amplifiers from RF back reflection."
   ]
  },
  {
   "cell_type": "code",
   "execution_count": null,
   "id": "de80ec05-cc04-472a-8ec2-63ec1bd014d1",
   "metadata": {
    "tags": []
   },
   "outputs": [],
   "source": [
    "microwave_src.output_level_unit('dBm') #Sets the units of the output level to dBm\n",
    "microwave_src.IQ_modulation('EXT') #Sets the I/Q channels to be controllable by external devices. In our case, the TTL pulses from the PulseBlaster."
   ]
  },
  {
   "cell_type": "markdown",
   "id": "29d7f1aa-a1eb-41e5-a883-6ddd1232d5ad",
   "metadata": {},
   "source": [
    "You should see on the device screen at the top of the black box 3 settings. These should be:<br>\n",
    "baseband: [Off]<br>I/Q Mod: [EXT]<br>Pulse Mod: [Off]"
   ]
  },
  {
   "cell_type": "markdown",
   "id": "99ca2fb3-7b5a-483f-b2fd-6c73833cc256",
   "metadata": {},
   "source": [
    "Run the code block below to set and retreive the frequency. This should be $\\leq$ 3 GHz"
   ]
  },
  {
   "cell_type": "code",
   "execution_count": null,
   "id": "c73c9e72-fa2b-4668-a7ea-3a32bc6b8a64",
   "metadata": {
    "tags": []
   },
   "outputs": [],
   "source": [
    "microwave_src.frequency(2.87e9)  #Sets the RF frequency\n",
    "microwave_src.power(-3) #Sets the power in dBm\n",
    "microwave_src.ask('FREQ?') #used to querey the current frequency setting."
   ]
  },
  {
   "cell_type": "code",
   "execution_count": null,
   "id": "c7934d70-e81a-4736-92aa-25e822510dd7",
   "metadata": {
    "tags": []
   },
   "outputs": [],
   "source": [
    "microwave_src.output('OFF') #microwave_src.output('ON') to turn on the RF output channel."
   ]
  },
  {
   "cell_type": "markdown",
   "id": "c2c61ecc-834e-49fe-8d43-148ef44b64fb",
   "metadata": {},
   "source": [
    "## KD300SP Programmable DC Power Supply Commands\n",
    "The code blocks below show examples of how to control components of the KD300SP programatically.<br>\n",
    "NOTE: You will not need this device until lab 2. You can skip this section if the KD300SP isn't attached to the magnets yet."
   ]
  },
  {
   "cell_type": "code",
   "execution_count": null,
   "id": "80ca841d-abcb-4d20-a6ee-6396f4c65606",
   "metadata": {
    "tags": []
   },
   "outputs": [],
   "source": [
    "#Initializes device.\n",
    "dc_supply = korad.KD3305P('dc_supply', 'ASRL6::INSTR')"
   ]
  },
  {
   "cell_type": "markdown",
   "id": "9914b159-c039-4c56-a144-5d2f07dd11a8",
   "metadata": {},
   "source": [
    "Changes the voltage and current set point."
   ]
  },
  {
   "cell_type": "code",
   "execution_count": null,
   "id": "d24290bd-f3d7-4c93-9692-ee809e98bc8c",
   "metadata": {
    "tags": []
   },
   "outputs": [],
   "source": [
    "dc_supply.ch1.voltage_setpoint(0) #Sets voltage\n",
    "dc_supply.ch1.current_setpoint(0) #Sets current."
   ]
  },
  {
   "cell_type": "code",
   "execution_count": null,
   "id": "34742837-aba4-4c15-83f5-bd35a382dbf0",
   "metadata": {
    "tags": []
   },
   "outputs": [],
   "source": [
    "dc_supply.ch1.voltage_setpoint(1) #Sets voltage\n",
    "dc_supply.ch1.current_setpoint(1) #Sets current."
   ]
  },
  {
   "cell_type": "markdown",
   "id": "1321488e-8b6e-4f4e-8ffc-21dc45dddb81",
   "metadata": {},
   "source": [
    "In the above segment, we set the voltage to 1V and attempted to set the current to 1A. However, as we can see on the display, the current was set to 0.292A. This is because the voltage is set as an anchor for the system, as it is now in constant "
   ]
  },
  {
   "cell_type": "code",
   "execution_count": null,
   "id": "3b0892ff-113b-428b-957e-5b5ba72eceb1",
   "metadata": {
    "tags": []
   },
   "outputs": [],
   "source": [
    "dc_supply.ch1.current_setpoint(0.2) #Sets maximum current.\n",
    "dc_supply.ch1.voltage_setpoint(12) #Sets desired voltage"
   ]
  },
  {
   "cell_type": "markdown",
   "id": "f0157966-839c-459a-bec7-00cc79e535f9",
   "metadata": {},
   "source": [
    "Similar to the constant voltage, if you are setting voltage, you can't surpass a certain threshhold, or else the system will chose a suitable value of voltage to use which keeps us at the constant ampierage. This is contant current mode (C. C)."
   ]
  },
  {
   "cell_type": "code",
   "execution_count": null,
   "id": "7a1ca946-7f6e-4f08-81a7-b252717dd7d5",
   "metadata": {
    "tags": []
   },
   "outputs": [],
   "source": [
    "dc_supply.ch1.voltage_setpoint(0) #Sets desired voltage\n",
    "dc_supply.ch1.current_setpoint(0) #Sets desired current."
   ]
  }
 ],
 "metadata": {
  "kernelspec": {
   "display_name": "Python 3 (ipykernel)",
   "language": "python",
   "name": "python3"
  },
  "language_info": {
   "codemirror_mode": {
    "name": "ipython",
    "version": 3
   },
   "file_extension": ".py",
   "mimetype": "text/x-python",
   "name": "python",
   "nbconvert_exporter": "python",
   "pygments_lexer": "ipython3",
   "version": "3.12.2"
  }
 },
 "nbformat": 4,
 "nbformat_minor": 5
}
