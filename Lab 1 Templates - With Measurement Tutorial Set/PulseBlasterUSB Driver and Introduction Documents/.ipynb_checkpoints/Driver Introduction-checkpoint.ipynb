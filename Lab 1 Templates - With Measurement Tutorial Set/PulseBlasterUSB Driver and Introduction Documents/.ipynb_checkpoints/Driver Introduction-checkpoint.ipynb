{
 "cells": [
  {
   "cell_type": "code",
   "execution_count": null,
   "id": "4aa1ad7c",
   "metadata": {
    "tags": []
   },
   "outputs": [],
   "source": [
    "from PulseBlasterUSB import *"
   ]
  },
  {
   "cell_type": "code",
   "execution_count": null,
   "id": "d89ec747",
   "metadata": {
    "tags": []
   },
   "outputs": [],
   "source": [
    "pulseblaster = PulseBlasterUSB()"
   ]
  },
  {
   "cell_type": "markdown",
   "id": "0c2462a1",
   "metadata": {},
   "source": [
    "## Sequence Construction\n",
    "This section demonstrates how to build a sequence into the buffer and how to read the output after it is constructed.\n",
    "\n",
    "To construct a pulse sequence, you need 3 lists:\n",
    "- Channel List\n",
    "    - Lists the channels (in integer form) desired to be used in the order corresponding to the Duration and Level lists.\n",
    "- Duration List\n",
    "    - Tells you the diration (in seconds) of the pulse in the list corresponding to a channel.\n",
    "- Level List\n",
    "    - Tells you if the listed instruction corresponding to the diration list should be on (1) or off (0)."
   ]
  },
  {
   "cell_type": "code",
   "execution_count": null,
   "id": "aad671d0",
   "metadata": {
    "tags": []
   },
   "outputs": [],
   "source": [
    "#Pulse sequence lists\n",
    "channels = [0, 1, 4]\n",
    "durations = [[1e-3, 1e-3], [500e-6, 500e-6, 500e-6, 500e-6], [500e-6, 500e-6, 500e-6, 500e-6]]\n",
    "levels = [[1, 0], [1, 0, 1, 0], [0, 1, 0, 1]]\n",
    "#durations = [[1e-3, 1e-3], [500e-6, 500e-6, 500e-6, 250e-6, 250e-6], [500e-6, 500e-6, 500e-6, 500e-6]]\n",
    "#levels = [[1, 0], [1, 0, 1, 0, 0], [0, 1, 0, 1]]\n",
    "#This is the core command used to optimize a pulse sequence. This will remove \n",
    "instructions = pulseblaster.get_Instructions(channels, durations, levels)\n",
    "instructions"
   ]
  },
  {
   "cell_type": "markdown",
   "id": "2ae146e4",
   "metadata": {},
   "source": [
    "Note that there are now 4 lists. The 2nd and 3rd are the instruction and argument list. Instruction 0 means it is continuous and 6 means branching. There are a number of other options, but these suffice in line to always make a functioning set of pulses. The arguments suffice as 0 for our purposes (not really sure what they do).\n",
    "\n",
    "The more important components are the 1st and 4th lists, which are the channels and durations, respectively. In the channel list, we get a number that maps to the channels used as a bionary string. For example, 48 = 110000, so channels 0-3 are inactive but channels 4 and 5 are active. This allows us to map multiple channels to the given duration. The duration list tells us how long, in seconds, the corresponding channel index will be active for.\n",
    "\n",
    "Note that if you use the longer levels and durations list, where 2 zeros are used in a row, we see that the output is identical. This is due to the pulse optimization build into the program that's designed to recognize and combine any commands with non-alternating levels, allowing for further optimazation/minimization of the pulse train.\n",
    "\n",
    "As shown below, you can also graph this."
   ]
  },
  {
   "cell_type": "code",
   "execution_count": null,
   "id": "615c4b5f",
   "metadata": {
    "tags": []
   },
   "outputs": [],
   "source": [
    "pulseblaster.Plot_Sequence(instructions)"
   ]
  },
  {
   "cell_type": "markdown",
   "id": "21bf412a",
   "metadata": {},
   "source": [
    "To run a sequence directly, use:"
   ]
  },
  {
   "cell_type": "code",
   "execution_count": null,
   "id": "a5bc8c25",
   "metadata": {
    "tags": []
   },
   "outputs": [],
   "source": [
    "pulseblaster.Run_Sequence(instructions)"
   ]
  },
  {
   "cell_type": "code",
   "execution_count": null,
   "id": "a0aec110",
   "metadata": {
    "tags": []
   },
   "outputs": [],
   "source": [
    "pulseblaster.Stop()"
   ]
  },
  {
   "cell_type": "markdown",
   "id": "db1faa92",
   "metadata": {},
   "source": [
    "## Combining Sequences and Looping\n",
    "This is made easy in this program. For example, suppose I want to make a new sequence combining the following 2 pulse sequences:"
   ]
  },
  {
   "cell_type": "code",
   "execution_count": null,
   "id": "0b6f30ff",
   "metadata": {
    "tags": []
   },
   "outputs": [],
   "source": [
    "#Pulse sequence lists\n",
    "channels = [4, 5, 6]\n",
    "durations = [[1e-3], [500e-6, 500e-6], [500e-6, 500e-6]]\n",
    "levels = [[1], [1, 0], [0, 1]]\n",
    "instruction1 = pulseblaster.get_Instructions(channels, durations, levels)\n",
    "pulseblaster.Plot_Sequence(instruction1)"
   ]
  },
  {
   "cell_type": "code",
   "execution_count": null,
   "id": "5adf5cc7",
   "metadata": {
    "tags": []
   },
   "outputs": [],
   "source": [
    "#Pulse sequence lists\n",
    "channels = [4, 5, 6]\n",
    "durations = [[1e-3], [500e-6, 500e-6], [500e-6, 500e-6]]\n",
    "levels = [[0], [0, 1], [1, 0]]\n",
    "instruction2 = pulseblaster.get_Instructions(channels, durations, levels)\n",
    "pulseblaster.Plot_Sequence(instruction2)"
   ]
  },
  {
   "cell_type": "code",
   "execution_count": null,
   "id": "23d117ea",
   "metadata": {
    "tags": []
   },
   "outputs": [],
   "source": [
    "pulseblaster.Run_Sequence(instruction1)"
   ]
  },
  {
   "cell_type": "markdown",
   "id": "80d8cf9a",
   "metadata": {},
   "source": [
    "To combine these 2, we would do this below.\n",
    "Sequence list is the list of sequences you want to combine and action list is the order of the instructions to apply."
   ]
  },
  {
   "cell_type": "code",
   "execution_count": null,
   "id": "a5d7fb1e",
   "metadata": {
    "tags": []
   },
   "outputs": [],
   "source": [
    "sequence_list = [instruction1, instruction2]\n",
    "action_list = [0, 1]\n",
    "sequence1 = pulseblaster.New_Sequence(sequence_list, action_list)\n",
    "pulseblaster.Plot_Sequence(sequence1)\n",
    "pulseblaster.Run_Sequence(sequence1)"
   ]
  },
  {
   "cell_type": "markdown",
   "id": "1352d63a",
   "metadata": {},
   "source": [
    "Alternatively, we could do this in a different order, but it will give the same resultant sequence. More interesting is:"
   ]
  },
  {
   "cell_type": "code",
   "execution_count": null,
   "id": "a9473be6",
   "metadata": {
    "tags": []
   },
   "outputs": [],
   "source": [
    "sequence_list = [instruction1, instruction2]\n",
    "action_list = [1, 0, 0, 1]\n",
    "sequence2 = pulseblaster.New_Sequence(sequence_list, action_list)\n",
    "pulseblaster.Plot_Sequence(sequence2)\n",
    "pulseblaster.Run_Sequence(sequence2)"
   ]
  },
  {
   "cell_type": "markdown",
   "id": "793d9a80",
   "metadata": {},
   "source": [
    "This can be written in the equivalent loop structure:"
   ]
  },
  {
   "cell_type": "code",
   "execution_count": null,
   "id": "3382846b",
   "metadata": {
    "tags": []
   },
   "outputs": [],
   "source": [
    "sequence_list = [instruction1, instruction2]\n",
    "action_list = [1, [0, 7], 1]\n",
    "sequence2 = pulseblaster.New_Sequence(sequence_list, action_list)\n",
    "pulseblaster.Plot_Sequence(sequence2)\n",
    "pulseblaster.Run_Sequence(sequence2)"
   ]
  },
  {
   "cell_type": "markdown",
   "id": "5027ecdd",
   "metadata": {},
   "source": [
    "All the above can be done directly saving instructions lists, but there is also a buffer list and a temperary buffer list for tracking, indexing, running, and creating sequences."
   ]
  },
  {
   "cell_type": "markdown",
   "id": "1ec87d35",
   "metadata": {},
   "source": [
    "## Temp and Buffer Lists\n",
    "While you can handle the pulse sequences directly, there are also 2 sequence managing lists built into the control program: Temp and Buffer. Making a new sequence and chosing it's saved location is almost the same as before, but we use a B or b to save to the buffer list and a T or t to save to the temparary list. This will return the index of the buffer that the seqeunce was saved to. For example:"
   ]
  },
  {
   "cell_type": "code",
   "execution_count": null,
   "id": "b5228de0",
   "metadata": {
    "tags": []
   },
   "outputs": [],
   "source": [
    "#Pulse sequence lists\n",
    "channels = [4, 5, 6]\n",
    "durations = [[1e-3, 1e-3], [500e-6, 500e-6, 500e-6, 500e-6], [500e-6, 500e-6, 500e-6, 500e-6]]\n",
    "levels = [[1, 0], [1, 0, 1, 0], [0, 1, 0, 1]]\n",
    "\n",
    "temp1 = pulseblaster.get_Instructions(channels, durations, levels, \"B\")\n",
    "#pulseblaster.Plot_Sequence(pulseblaster.get_Buffer_Sequence(temp1))\n",
    "\n",
    "buffer1 = pulseblaster.get_Instructions(channels, durations, levels, \"t\")\n",
    "#pulseblaster.Plot_Sequence(pulseblaster.get_Temp_Sequence(buffer1))"
   ]
  },
  {
   "cell_type": "markdown",
   "id": "653496a4",
   "metadata": {},
   "source": [
    "So far everything should be familier. The added bonus comes with these buffers in the ability to save and index to the directory as well as and create new pulse sequences from temporary or buffer stored sequences."
   ]
  },
  {
   "cell_type": "code",
   "execution_count": null,
   "id": "e1d1222d",
   "metadata": {
    "tags": []
   },
   "outputs": [],
   "source": [
    "channels = [4, 5, 6, 7]\n",
    "durations = [[1e-3, 1e-3], [500e-6, 500e-6, 500e-6, 500e-6], [500e-6, 500e-6, 500e-6, 500e-6], [2e-3]]\n",
    "levels = [[0, 1], [0, 1, 0, 1], [1, 0, 1, 0], [1]]\n",
    "\n",
    "temp2 = pulseblaster.get_Instructions(channels, durations, levels, \"B\")\n",
    "#pulseblaster.Plot_Sequence(pulseblaster.get_Buffer_Sequence(temp2))\n",
    "\n",
    "buffer2 = pulseblaster.get_Instructions(channels, durations, levels, \"t\")\n",
    "#pulseblaster.Plot_Sequence(pulseblaster.get_Temp_Sequence(buffer2))"
   ]
  },
  {
   "cell_type": "markdown",
   "id": "a567aa77",
   "metadata": {},
   "source": [
    "So to combine these, we use the same instruction structure we used last time, but we use the indicies of the sequence in the buffer. Remember that temp1 and temp2 correspond to the index that the sequence was saved to the temp buffer. By inputting \"B\" we are telling it to save the new sequence to the buffer. However, we can use \"T\" to save to the temperary buffer. If you don't at a \"B\" or a \"T\" to the end, this will just return the sequence in the form shown above."
   ]
  },
  {
   "cell_type": "code",
   "execution_count": null,
   "id": "b5695ef0",
   "metadata": {
    "tags": []
   },
   "outputs": [],
   "source": [
    "temp3 = pulseblaster.New_Sequence_From_Buffer([buffer1, buffer2], \"T\")\n",
    "#pulseblaster.Plot_Sequence(pulseblaster.get_Temp_Sequence(temp3))\n",
    "#Note that there is not seperate way to run a temporary storage sequence then retreiving it, as it's not the standard use.\n",
    "pulseblaster.Run_Sequence(pulseblaster.get_Temp_Sequence(temp3))\n",
    "\n",
    "buffer3 = pulseblaster.New_Sequence_From_Temp([temp1, temp2], \"b\")\n",
    "#pulseblaster.Plot_Sequence(pulseblaster.get_Buffer_Sequence(buffer3))\n",
    "pulseblaster.Run_Buffer_Sequence(buffer3)"
   ]
  },
  {
   "cell_type": "markdown",
   "id": "42dc1165",
   "metadata": {},
   "source": [
    "Similarly to working directly with the sequences, we can use loops to get a sequence that's a compilation of other sequences."
   ]
  },
  {
   "cell_type": "code",
   "execution_count": null,
   "id": "6ee93a18",
   "metadata": {
    "tags": []
   },
   "outputs": [],
   "source": [
    "buffer4 = pulseblaster.New_Sequence_From_Temp([temp1, [temp2, 2], [temp1, 3], temp2], \"B\")\n",
    "pulseblaster.Plot_Sequence(pulseblaster.get_Buffer_Sequence(buffer4))\n",
    "pulseblaster.Run_Buffer_Sequence(buffer4)"
   ]
  },
  {
   "cell_type": "markdown",
   "id": "8f86df7b",
   "metadata": {},
   "source": [
    "## Other Commands Included in the Program\n",
    "\n",
    "Delete an index of the buffer and temperary sequence lists. Note that this can invalidate previously saved indicies, so track accordingly."
   ]
  },
  {
   "cell_type": "code",
   "execution_count": null,
   "id": "4fc0034d",
   "metadata": {
    "tags": []
   },
   "outputs": [],
   "source": [
    "pulseblaster.Temp_Delete(temp3)\n",
    "pulseblaster.Buffer_Delete(buffer4)"
   ]
  },
  {
   "cell_type": "markdown",
   "id": "6b3f3852",
   "metadata": {},
   "source": [
    "You can add sequences directly to the buffer or temperary sequence lists either at the end or at a specific index."
   ]
  },
  {
   "cell_type": "code",
   "execution_count": null,
   "id": "52c63b32",
   "metadata": {
    "tags": []
   },
   "outputs": [],
   "source": [
    "pulseblaster.Temp_Add(sequence1)\n",
    "pulseblaster.Buffer_Add(sequence2)"
   ]
  },
  {
   "cell_type": "markdown",
   "id": "925c51dc",
   "metadata": {},
   "source": [
    "You can tell the program to replace the sequence in a specific index with a new sequence."
   ]
  },
  {
   "cell_type": "code",
   "execution_count": null,
   "id": "0620fcf6",
   "metadata": {
    "tags": []
   },
   "outputs": [],
   "source": [
    "pulseblaster.Temp_Replace(sequence2, temp1)\n",
    "pulseblaster.Buffer_Replace(pulseblaster.get_Temp_Sequence(temp1), buffer1)"
   ]
  },
  {
   "cell_type": "markdown",
   "id": "2e7c3c28",
   "metadata": {},
   "source": [
    "While you've seen get_Temp_Sequence and get_Buffer_Sequence, which are used to retreive the sequence stored at a specific index within the temporary sequence and buffer sequence lists respectively, you can also retreive the list of sequences contained in Temp and Buffer using these commands."
   ]
  },
  {
   "cell_type": "code",
   "execution_count": null,
   "id": "c1bc6e3c",
   "metadata": {
    "tags": []
   },
   "outputs": [],
   "source": [
    "pulseblaster.get_Temp()\n",
    "pulseblaster.get_Buffer()"
   ]
  },
  {
   "cell_type": "markdown",
   "id": "044823ac",
   "metadata": {},
   "source": [
    "While this was originally designed as a component of the Plot Channels list, you can also determine the channels used in a pulse sequence with the following command."
   ]
  },
  {
   "cell_type": "code",
   "execution_count": null,
   "id": "c60dbde5",
   "metadata": {
    "tags": []
   },
   "outputs": [],
   "source": [
    "pulseblaster.List_Channels_Used(sequence1)\n",
    "pulseblaster.List_Channels_Used(pulseblaster.get_Temp_Sequence(temp3))"
   ]
  }
 ],
 "metadata": {
  "kernelspec": {
   "display_name": "Python 3 (ipykernel)",
   "language": "python",
   "name": "python3"
  },
  "language_info": {
   "codemirror_mode": {
    "name": "ipython",
    "version": 3
   },
   "file_extension": ".py",
   "mimetype": "text/x-python",
   "name": "python",
   "nbconvert_exporter": "python",
   "pygments_lexer": "ipython3",
   "version": "3.10.12"
  }
 },
 "nbformat": 4,
 "nbformat_minor": 5
}
