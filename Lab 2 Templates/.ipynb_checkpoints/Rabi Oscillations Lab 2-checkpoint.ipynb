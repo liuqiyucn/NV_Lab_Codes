{
 "cells": [
  {
   "cell_type": "code",
   "execution_count": null,
   "id": "6472c34b-8ded-45bb-b2d0-e16b98e4122c",
   "metadata": {},
   "outputs": [],
   "source": [
    "%matplotlib inline\n",
    "from pathlib import Path\n",
    "from time import monotonic, sleep\n",
    "\n",
    "import numpy as np\n",
    "import matplotlib.pyplot as plt\n",
    "import math\n",
    "\n",
    "import qcodes as qc\n",
    "from qcodes.dataset import (\n",
    "    Measurement,\n",
    "    initialise_or_create_database_at,\n",
    "    load_by_guid,\n",
    "    load_by_run_spec,\n",
    "    load_or_create_experiment,\n",
    "    plot_dataset,\n",
    ")\n",
    "from qcodes.dataset.descriptions.detect_shapes import detect_shape_of_measurement\n",
    "from qcodes.logger import start_all_logging\n",
    "start_all_logging()\n",
    "\n",
    "from scipy.optimize import curve_fit\n",
    "import numpy as np\n",
    "\n",
    "from ultolib import (anritsu, korad, spincore)\n",
    "from ultolib.spincore import pulse\n",
    "import qcodes.instrument_drivers.stanford_research as stanford_research"
   ]
  },
  {
   "cell_type": "code",
   "execution_count": null,
   "id": "17fb8e58-5e7a-4c6d-ae61-bee619c10660",
   "metadata": {},
   "outputs": [],
   "source": [
    "# Note : this will generate two deprecation warnings when creating the pulse_blaster\n",
    "pulse_blaster = spincore.PulseBlasterESRPRO(name='pulse_blaster', board_number=0)\n",
    "pulse_blaster.core_clock(500)                     #Sets the clock speed, \n",
    "                                                  #must be called immediately after connecting to the PulseBlaster\n",
    "\n",
    "lock_in_amp = stanford_research.SR830(name='lock_in_amp', address='ASRL5::INSTR', terminator='\\r')\n",
    "\n",
    "microwave_src=anritsu.MG3681A(name='microwave_src', address='ASRL4::INSTR', terminator='\\r\\n')\n",
    "microwave_src.output('OFF')\n",
    "microwave_src.output_level_unit('dBm')\n",
    "microwave_src.IQ_modulation('EXT')\n",
    "# Note : this will generate the following errors that can be ignored\n",
    "#     [pulse_blaster(PulseBlasterESRPRO)] Error getting or interpreting *IDN?: ''\n",
    "#     [lock_in_amp(SR830)] Snapshot: Could not update parameter: output_interface\n",
    "#     [microwave_src(MG3681A)] Snapshot: Could not update parameter: output\n",
    "#     [microwave_src(MG3681A)] Snapshot: Could not update parameter: output_level_unit\n",
    "#     [microwave_src(MG3681A)] Snapshot: Could not update parameter: pulse_modulation\n",
    "#\n",
    "\n",
    "dc_supply = korad.KD3305P('dc_supply', 'ASRL6::INSTR')\n",
    "dc_supply.ch1.voltage_setpoint(0)\n",
    "dc_supply.ch1.current_setpoint(0)\n",
    "\n",
    "pulse_blaster.stop()"
   ]
  },
  {
   "cell_type": "markdown",
   "id": "474e7621-37f8-4a92-8cbd-91af181e28f1",
   "metadata": {},
   "source": [
    "## Coherent Control and Rabi Oscillations\n",
    "\n",
    "For this experiment, we shall choose one of the many resonance frequencies that were observed in the ODMR spectra at a suitable magnetic field. Similar to the ODMR experiment, the microwave source will need to be programmed to output an oscillating signal with the chosen resonance frequency. Enter the resonance frequency below, choose the peak with the lowest frequency."
   ]
  },
  {
   "cell_type": "code",
   "execution_count": null,
   "id": "bfb32c60-836b-43d1-8ddc-8af377dc81a1",
   "metadata": {},
   "outputs": [],
   "source": [
    "#Use this to make a parameter out of anything!\n",
    "MW_on_time= qc.ManualParameter('Pulselength', unit='s')\n",
    "LI_R = qc.ManualParameter('Signal', unit='V')\n",
    "\n",
    "#We start by stopping the laser pulsing. This way we can properly initialize.\n",
    "initialise_or_create_database_at(Path.cwd() / \"Coherent Control.db\")\n",
    "experiment = load_or_create_experiment(\n",
    "    experiment_name='Coherent Control',\n",
    "    sample_name=\"\"\n",
    ")\n",
    "\n",
    "meas = Measurement(exp=experiment, name='Coherent Control')\n",
    "meas.register_parameter(MW_on_time)  # register the first independent parameter\n",
    "meas.register_parameter(LI_R) # now register the dependent one"
   ]
  },
  {
   "cell_type": "code",
   "execution_count": null,
   "id": "48852254-b96a-4578-8a2c-aacd805b0bd2",
   "metadata": {},
   "outputs": [],
   "source": [
    "pulse_blaster.stop()\n",
    "microwave_src.output('OFF')\n",
    "ref_f =                            #Reference frequency.\n",
    "ref_D =                            #Reference duty cycle.\n",
    "T_ref_on =                         #Reference time on.\n",
    "T_ref_off =                        #Reference time off.\n",
    "\n",
    "laser_f =                          #Laser modulation frequency.\n",
    "laser_D =                          #Laser modulation duty cycle.\n",
    "T_laser_on =                       #Laser time on. \n",
    "T_laser_off =                      #Laser time off.\n",
    "N_laser_pulses =                   #Number of laser pulses that can fit in the reference period.\n",
    "\n",
    "mw_f = laser_f                     #Microwave modulation frequency.\n",
    "\n",
    "def get_T_mw_off(mw_on_time):\n",
    "    return #Your microwave off time determination code here\n",
    "N_mw_pulses =                     #Number of microwave pulses that can fit in the reference period.\n",
    "\n",
    "lock_in_amp.time_constant(#Your time constant here)\n",
    "lock_in_amp.sensitivity(#Your sensitivity here)\n",
    "\n",
    "microwave_src.power(#Your power here) #<= 15\n",
    "microwave_src.frequency(#Chosen frequency here)\n",
    "\n",
    "\n",
    "T_padding = 6e-6\n",
    "\n",
    "\n",
    "#Potentially useful set of test conditions for diagnosing misprogramming issues.\n",
    "print(1e6*T_ref_on, 1e6*T_ref_off)\n",
    "print(1e6*T_laser_on, 1e6*T_laser_off, N_laser_pulses)\n",
    "print(1e6*get_T_mw_off(T_mw_on_examp), 1e6*T_mw_on_examp, 1e6*T_padding, N_mw_pulses)\n",
    "\n",
    "def Rabi_Osc_PP(t_mw_on):\n",
    "    pulse_blaster.reset_channel_buffer()  #Clear the previous pulse sequence.\n",
    "    pulse_blaster.ch0.pulse_sequence_buffer.set(\n",
    "        #TODO: Enter the lock in reference frequency pulse sequence here.\n",
    "        \n",
    "    )                                     #Define the new pulse sequence for channel 0.\n",
    "    pulse_blaster.ch1.pulse_sequence_buffer.set(\n",
    "        #TODO: Enter the laser pulse sequencea here.\n",
    "        \n",
    "    )                                     #Define the new pulse sequence for channel 1.\n",
    "    pulse_blaster.ch2.pulse_sequence_buffer.set(\n",
    "        #TODO: Enter the microwave modulation pulse sequence here.\n",
    "        \n",
    "    )                                     #Define the new pulse sequence for channel 2.\n",
    "T_mw_on_examp = 1e-6\n",
    "Rabi_Osc_PP(T_mw_on_examp)\n",
    "pulse_blaster.plot_channel_buffer()   #This function plots the newly defined pulse sequence."
   ]
  },
  {
   "cell_type": "code",
   "execution_count": null,
   "id": "77cd4acb-9c55-49eb-9fce-5cf8c79ef481",
   "metadata": {},
   "outputs": [],
   "source": [
    "lock_in_amp.time_constant(#Your time constant here)\n",
    "lock_in_amp.sensitivity(#Your sensitivity here)\n",
    "\n",
    "dc_supply.ch1.voltage_setpoint(12)\n",
    "dc_supply.ch1.current_setpoint(#Your current here)\n",
    "\n",
    "#TODO: Chose microwave on stepsize, min, and maximum values for the experiment.\n",
    "min_mw_on =                   #Minimum frequency for the spectrum\n",
    "max_mw_on =                   #Maximum frequency for the spectrum,\n",
    "mw_on_stepsize =              #Time increase at each step"
   ]
  },
  {
   "cell_type": "markdown",
   "id": "821478f7-1de6-4a2a-8fef-67dfb4710f6d",
   "metadata": {},
   "source": [
    "Set the microwave power to 15 dBm. You will repeat this measurement for microwave powers of 12 dBm, 9 dBm, and 6 dBm."
   ]
  },
  {
   "cell_type": "code",
   "execution_count": null,
   "id": "f82e79ff-6efb-444a-b9f6-07fe3757508d",
   "metadata": {},
   "outputs": [],
   "source": [
    "microwave_src.output('ON')\n",
    "microwave_src.power(#Your power here)\n",
    "with meas.run() as datasaver:\n",
    "    ###########################\n",
    "    #Your experiment code here\n",
    "    \n",
    "    ###########################\n",
    "    Rabi = datasaver.dataset  # convenient to have for data access and plotting"
   ]
  },
  {
   "cell_type": "markdown",
   "id": "c5f07650-cb28-45f9-b5f0-5146825d4eb5",
   "metadata": {},
   "source": [
    "Write data analysis code to fit the data and determine the Rabi frequency."
   ]
  },
  {
   "cell_type": "code",
   "execution_count": null,
   "id": "3dc2e051-0e9d-44e2-8d24-6a4c1d00a2a5",
   "metadata": {},
   "outputs": [],
   "source": [
    "#TODO: Enter the initial fit params\n",
    "initial_fit_params =  [#Your initial fit parameters]     #[a, T, f_R, phi, c]\n",
    "def fit_model(x, a, b, f, p ,c):\n",
    "    return a * np.exp(-1.0 * x / b) * np.sin(2 * np.pi * f * x + p) + c"
   ]
  },
  {
   "cell_type": "markdown",
   "id": "c6f84883-6f96-4319-a9ac-a06d25ed92c7",
   "metadata": {},
   "source": [
    "## Note:\n",
    "For lab 3, you will need to use this template to determine the $\\pi$ and $\\pi/2$ pulselengths for X and Y rotation gates using Rabi oscillations at a given power. The section below can be done during either the lab 2 or lab 3 session:"
   ]
  },
  {
   "cell_type": "code",
   "execution_count": null,
   "id": "1ec425e1-db58-49a6-9f1f-6ce29ddf7839",
   "metadata": {},
   "outputs": [],
   "source": []
  }
 ],
 "metadata": {
  "kernelspec": {
   "display_name": "Python 3 (ipykernel)",
   "language": "python",
   "name": "python3"
  },
  "language_info": {
   "codemirror_mode": {
    "name": "ipython",
    "version": 3
   },
   "file_extension": ".py",
   "mimetype": "text/x-python",
   "name": "python",
   "nbconvert_exporter": "python",
   "pygments_lexer": "ipython3",
   "version": "3.10.12"
  }
 },
 "nbformat": 4,
 "nbformat_minor": 5
}
