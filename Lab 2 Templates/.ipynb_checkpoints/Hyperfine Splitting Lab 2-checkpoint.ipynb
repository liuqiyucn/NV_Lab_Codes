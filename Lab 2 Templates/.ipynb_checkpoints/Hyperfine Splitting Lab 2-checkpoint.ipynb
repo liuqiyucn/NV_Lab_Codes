{
 "cells": [
  {
   "cell_type": "code",
   "execution_count": null,
   "id": "e1137f63-4566-4ff2-8798-e8a7b810cdf5",
   "metadata": {
    "tags": []
   },
   "outputs": [],
   "source": [
    "%matplotlib inline\n",
    "from pathlib import Path\n",
    "from time import monotonic, sleep\n",
    "\n",
    "import numpy as np\n",
    "import matplotlib.pyplot as plt\n",
    "import math\n",
    "\n",
    "import qcodes as qc\n",
    "from qcodes.dataset import (\n",
    "    Measurement,\n",
    "    initialise_or_create_database_at,\n",
    "    load_by_guid,\n",
    "    load_by_run_spec,\n",
    "    load_or_create_experiment,\n",
    "    plot_dataset,\n",
    ")\n",
    "from qcodes.dataset.descriptions.detect_shapes import detect_shape_of_measurement\n",
    "from qcodes.logger import start_all_logging\n",
    "start_all_logging()\n",
    "\n",
    "from scipy.optimize import curve_fit\n",
    "import numpy as np\n",
    "\n",
    "from ultolib import (anritsu, korad, spincore)\n",
    "from ultolib.spincore import pulse\n",
    "import qcodes.instrument_drivers.stanford_research as stanford_research"
   ]
  },
  {
   "cell_type": "code",
   "execution_count": null,
   "id": "3f90313d-56a0-4a22-ba8e-78b3490d9df8",
   "metadata": {
    "tags": []
   },
   "outputs": [],
   "source": [
    "# Note : this will generate two deprecation warnings when creating the pulse_blaster\n",
    "pulse_blaster = spincore.PulseBlasterESRPRO(name='pulse_blaster', board_number=0)\n",
    "pulse_blaster.core_clock(500)                     #Sets the clock speed, \n",
    "                                                  #must be called immediately after connecting to the PulseBlaster\n",
    "lock_in_amp = stanford_research.SR830(name='lock_in_amp', address='ASRL5::INSTR', terminator='\\r')\n",
    "\n",
    "microwave_src=anritsu.MG3681A(name='microwave_src', address='ASRL4::INSTR', terminator='\\r\\n')\n",
    "microwave_src.output('OFF')\n",
    "microwave_src.output_level_unit('dBm')\n",
    "microwave_src.IQ_modulation('EXT')\n",
    "\n",
    "dc_supply = korad.KD3305P('dc_supply', 'ASRL6::INSTR')\n",
    "dc_supply.ch1.voltage_setpoint(0)\n",
    "dc_supply.ch1.current_setpoint(0)\n",
    "\n",
    "pulse_blaster.stop()"
   ]
  },
  {
   "cell_type": "markdown",
   "id": "30de493f-7070-436e-b5b7-8ae052ffa7b8",
   "metadata": {},
   "source": [
    "## Task 2.3: The Hyperfine Splitting\n",
    "\n",
    "The negatively charged vacancy in the NV center couples to the spin of its 14N nuclei which is a non-zero spin system. This will lead to further splitting of the electronic energy levels, known as hyperfine splitting.\n",
    "\n",
    "For this task set the magnetic field to 0.005 T. \n",
    "\n",
    "Note: For this task, Task 2.2 must have been completed and the coil_constant determined."
   ]
  },
  {
   "cell_type": "code",
   "execution_count": null,
   "id": "860ac341-5e38-4710-a5c2-3d64d560b360",
   "metadata": {
    "tags": []
   },
   "outputs": [],
   "source": [
    "coil_constant = #Coil constant value determined in ODMR Magnetometry lab\n",
    "B0 = 0.005\n",
    "I0 = B0/coil_constant\n",
    "dc_supply.ch1.voltage_setpoint(12)\n",
    "dc_supply.ch1.current_setpoint(I0)"
   ]
  },
  {
   "cell_type": "markdown",
   "id": "d4ae688c-76cb-4981-a6a4-34adbffb1d33",
   "metadata": {},
   "source": [
    "Perform an ODMR experiment to find the resonance peak at the highest frequency. Ensure that the coil current is not so high that the resonance of the peak exceeds 3 GHz. If that is the case, lower the B0 in the above code cell. You can consult your ODMR map to get an idea about the frequency range. For this ODMR peak, we will perform a high resolution ODMR scan centered around the chosen peak. Enter the values for the minimum and maximum frequencies to be scanned in the spectrum, below. Initially, it may help to scan a larger range in order to locqate the peak and then tighten the range to get a better scan.\n",
    "\n",
    "Repeat this experiment for microwave powers 9 dbm, 6 dBm and -3 dB. You may have to increase the lock-in amplifier time constant at -3 dBm.\n",
    "**The microwave frequency must be $\\leq 3$ GHz.**"
   ]
  },
  {
   "cell_type": "code",
   "execution_count": null,
   "id": "d54eca02-1aab-4270-98ab-8a4a307b937b",
   "metadata": {
    "tags": []
   },
   "outputs": [],
   "source": [
    "#Use this to make a parameter out of anything!\n",
    "MW= qc.ManualParameter('Frequency', unit='Hz')\n",
    "LI_R = qc.ManualParameter('Signal', unit='V')\n",
    "\n",
    "#We start by stopping the laser pulsing. This way we can properly initialize.\n",
    "initialise_or_create_database_at(Path.cwd() / \"Hyperfine Splitting.db\")\n",
    "experiment = load_or_create_experiment(\n",
    "    experiment_name='Hyperfine Splitting',\n",
    "    sample_name=\"\"\n",
    ")\n",
    "\n",
    "meas = Measurement(exp=experiment, name='Hyperfine Splitting')\n",
    "meas.register_parameter(MW)  # register the first independent parameter\n",
    "meas.register_parameter(LI_R) # now register the dependent one"
   ]
  },
  {
   "cell_type": "code",
   "execution_count": null,
   "id": "b1cc858d-3334-4c96-a6f3-fc7c74c30be5",
   "metadata": {
    "tags": []
   },
   "outputs": [],
   "source": [
    "ref_f =                                  #Reference frequency.\n",
    "ref_D =                                  #Reference duty cycle.\n",
    "T_ref_on =                               #Reference time on.\n",
    "T_ref_off =                              #Reference time off.\n",
    "\n",
    "\n",
    "laser_f =                                #Laser modulation frequency.\n",
    "laser_D =                                #Laser modulation duty cycle.\n",
    "T_laser_on =                             #Laser on time. \n",
    "T_laser_off =                            #Laser off time.\n",
    "N_laser_pulses =                         #Number of laser pulses that can fit in the reference period.\n",
    "\n",
    "mw_f =                                   #Microwave modulation frequency.\n",
    "mw_D =                                   #Microwave modulation duty cycle.\n",
    "T_mw_on =                                #Microwave time on.\n",
    "T_mw_off =                               #Microwave time off.\n",
    "N_mw_pulses =                            #Number of microwave pulses that can fit in the reference period.\n",
    "\n",
    "T_padding = \n",
    "T_mw_off -= T_padding\n",
    "\n",
    "def Hyperfine_Splitting_PP():\n",
    "    pulse_blaster.reset_channel_buffer()  #Clear the previous pulse sequence.\n",
    "    pulse_blaster.ch0.pulse_sequence_buffer.set(\n",
    "        \n",
    "    )                                     #Define the new pulse sequence for channel 0.\n",
    "    pulse_blaster.ch1.pulse_sequence_buffer.set(\n",
    "    #TODO: Enter the laser pulse sequence.\n",
    "        \n",
    "    )                                     #Define the new pulse sequence for channel 1.\n",
    "    pulse_blaster.ch2.pulse_sequence_buffer.set(\n",
    "        \n",
    "    )                                     #Define the new pulse sequence for channel 2."
   ]
  },
  {
   "cell_type": "code",
   "execution_count": null,
   "id": "66252d66-3dbc-44c5-b80b-7d7c95ba380a",
   "metadata": {
    "tags": []
   },
   "outputs": [],
   "source": [
    "microwave_src.output('OFF')\n",
    "\n",
    "lock_in_amp.time_constant(#Your time constant here)\n",
    "lock_in_amp.sensitivity(#Your sensitivity here)\n",
    "\n",
    "#TODO: Enter the ODMR frequency range.\n",
    "#NOTE: Must not be > 3 GHz (why not? Couldn't we interleave the channels part way through to look at a larger range?)\n",
    "#TODO: Enter the ODMR frequency range.\n",
    "min_frequency =                   #Minimum frequency for the spectrum\n",
    "max_frequency =                   #Maximum frequency for the spectrum, #Must not be > 3 GHz.\n",
    "num_freq_step = "
   ]
  },
  {
   "cell_type": "code",
   "execution_count": null,
   "id": "424e093d-777a-43d2-ae8f-8bfe338d0b8e",
   "metadata": {
    "tags": []
   },
   "outputs": [],
   "source": [
    "#Run the experiment\n",
    "microwave_src.IQ_modulation('EXT')\n",
    "microwave_src.output('ON')\n",
    "Hyperfine_Splitting_PP()\n",
    "pulse_blaster.flush_channel_buffer()\n",
    "\n",
    "microwave_src.power(i)\n",
    "with meas.run() as datasaver:\n",
    "    ##########################\n",
    "    #Your experiment code here\n",
    "        \n",
    "    ##########################\n",
    "    \n",
    "    ODMR_data = datasaver.dataset\n",
    "\n",
    "ODMR = ODMR_data.to_pandas_dataframe()\n",
    "plt.plot(ODMR[\"Frequency\"], ODMR[\"Signal\"])\n",
    "plt.xlabel('Frequency(Hz)')\n",
    "plt.ylabel('Signal(V)')\n",
    "plt.title(f'Hyperfine Splitting({i}dBm)')\n",
    "plt.show()"
   ]
  }
 ],
 "metadata": {
  "kernelspec": {
   "display_name": "Python 3 (ipykernel)",
   "language": "python",
   "name": "python3"
  },
  "language_info": {
   "codemirror_mode": {
    "name": "ipython",
    "version": 3
   },
   "file_extension": ".py",
   "mimetype": "text/x-python",
   "name": "python",
   "nbconvert_exporter": "python",
   "pygments_lexer": "ipython3",
   "version": "3.10.12"
  }
 },
 "nbformat": 4,
 "nbformat_minor": 5
}
