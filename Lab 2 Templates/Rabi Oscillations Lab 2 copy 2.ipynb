{
 "cells": [
  {
   "cell_type": "code",
   "execution_count": 1,
   "id": "6472c34b-8ded-45bb-b2d0-e16b98e4122c",
   "metadata": {},
   "outputs": [
    {
     "name": "stdout",
     "output_type": "stream",
     "text": [
      "Logging hadn't been started.\n",
      "Activating auto-logging. Current session state plus future input saved.\n",
      "Filename       : C:\\Users\\nv-group01\\.qcodes\\logs\\command_history.log\n",
      "Mode           : append\n",
      "Output logging : True\n",
      "Raw input log  : False\n",
      "Timestamping   : True\n",
      "State          : active\n",
      "Qcodes Logfile : C:\\Users\\nv-group01\\.qcodes\\logs\\240610-9384-qcodes.log\n"
     ]
    }
   ],
   "source": [
    "%matplotlib inline\n",
    "from pathlib import Path\n",
    "from time import monotonic, sleep\n",
    "\n",
    "import numpy as np\n",
    "import matplotlib.pyplot as plt\n",
    "import math\n",
    "\n",
    "import qcodes as qc\n",
    "from qcodes.dataset import (\n",
    "    Measurement,\n",
    "    initialise_or_create_database_at,\n",
    "    load_by_guid,\n",
    "    load_by_run_spec,\n",
    "    load_or_create_experiment,\n",
    "    plot_dataset,\n",
    ")\n",
    "from qcodes.dataset.descriptions.detect_shapes import detect_shape_of_measurement\n",
    "from qcodes.logger import start_all_logging\n",
    "start_all_logging()\n",
    "\n",
    "from scipy.optimize import curve_fit\n",
    "import numpy as np\n",
    "\n",
    "from ultolib import (anritsu, korad, spincore)\n",
    "from ultolib.spincore import pulse\n",
    "import qcodes.instrument_drivers.stanford_research as stanford_research"
   ]
  },
  {
   "cell_type": "markdown",
   "id": "474e7621-37f8-4a92-8cbd-91af181e28f1",
   "metadata": {},
   "source": [
    "## Coherent Control and Rabi Oscillations\n",
    "\n",
    "For this experiment, we shall choose one of the many resonance frequencies that were observed in the ODMR spectra at a suitable magnetic field. Similar to the ODMR experiment, the microwave source will need to be programmed to output an oscillating signal with the chosen resonance frequency. Enter the resonance frequency below, choose the peak with the lowest frequency."
   ]
  },
  {
   "cell_type": "code",
   "execution_count": 2,
   "id": "21aa0b8b",
   "metadata": {},
   "outputs": [
    {
     "name": "stdout",
     "output_type": "stream",
     "text": [
      "Connected to: Stanford_Research_Systems SR830 (serial:s/n32132, firmware:ver1.07) in 0.33s\n",
      "Connected to: ANRITSU MG3681A (serial:6100146424, firmware:3.03) in 0.16s\n",
      "Connected to: KORAD KD3005P V6.7 SN 48562561 (serial:None, firmware:None) in 0.05s\n"
     ]
    }
   ],
   "source": [
    "# Note : this will generate two deprecation warnings when creating the pulse_blaster\n",
    "# pulse_blaster = spincore.PulseBlasterESRPRO(name='pulse_blaster', board_number=0)\n",
    "# pulse_blaster.core_clock(500)                     #Sets the clock speed, \n",
    "                                                #   must be called immediately after connecting to the PulseBlaster\n",
    "lock_in_amp = stanford_research.SR830(name='lock_in_amp', address='ASRL5::INSTR', terminator='\\r')\n",
    "\n",
    "microwave_src=anritsu.MG3681A(name='microwave_src', address='ASRL4::INSTR', terminator='\\r\\n')\n",
    "microwave_src.output('OFF')\n",
    "microwave_src.output_level_unit('dBm')\n",
    "microwave_src.IQ_modulation('EXT')\n",
    "\n",
    "dc_supply = korad.KD3305P('dc_supply', 'ASRL6::INSTR')\n",
    "dc_supply.ch1.voltage_setpoint(12)\n",
    "dc_supply.ch1.current_setpoint(0.8)\n",
    "\n",
    "from PulseBlasterUSB import *\n",
    "pulse_blaster = PulseBlasterUSB()\n",
    "# pulse_blaster.stop()"
   ]
  },
  {
   "cell_type": "code",
   "execution_count": 3,
   "id": "bfb32c60-836b-43d1-8ddc-8af377dc81a1",
   "metadata": {},
   "outputs": [
    {
     "data": {
      "text/plain": [
       "<qcodes.dataset.measurements.Measurement at 0x209d6768ad0>"
      ]
     },
     "execution_count": 3,
     "metadata": {},
     "output_type": "execute_result"
    }
   ],
   "source": [
    "#Use this to make a parameter out of anything!\n",
    "MW_on_time= qc.ManualParameter('Pulselength', unit='s')\n",
    "LI_R = qc.ManualParameter('Signal', unit='V')\n",
    "\n",
    "#We start by stopping the laser pulsing. This way we can properly initialize.\n",
    "initialise_or_create_database_at(Path.cwd() / \"Coherent Control.db\")\n",
    "experiment = load_or_create_experiment(\n",
    "    experiment_name='Coherent Control',\n",
    "    sample_name=\"\"\n",
    ")\n",
    "\n",
    "meas = Measurement(exp=experiment, name='Coherent Control')\n",
    "meas.register_parameter(MW_on_time)  # register the first independent parameter\n",
    "meas.register_parameter(LI_R) # now register the dependent one"
   ]
  },
  {
   "cell_type": "code",
   "execution_count": null,
   "id": "bb1b22ce",
   "metadata": {},
   "outputs": [],
   "source": [
    "# #Stop the pulse blaster so that we can let the states equilibriate and then sweep after initializing.\n",
    "# pulse_blaster.stop()\n",
    "# microwave_src.output('OFF')\n",
    "\n",
    "\n",
    "# tau_0 =  100e-6    #starting tau in seconds\n",
    "# tau_f =  100e-9   #Ending tau in seconds\n",
    "# stepsize = 0.0005  #stepsize in seconds\n",
    "\n",
    "# T_pulse_i = 0.1e-6\n",
    "# T_pulse_f = 3e-6\n",
    "\n",
    "# ref_f = 21\n",
    "# ref_D = 0.5\n",
    "# T_ref_on = ref_D/ref_f\n",
    "# T_ref_off = (1 - ref_D)/ref_f\n",
    "\n",
    "# laser_f = 100e3                                   #Laser modulation frequency.\n",
    "# laser_D = 0.3                                        #Laser modulation duty cycle.\n",
    "# T_laser_on = laser_D/laser_f                #Laser on time. \n",
    "# T_laser_off = (1 - laser_D)/laser_f         #Laser off time.\n",
    "# N_laser_pulses = round(laser_f/ref_f)           #Number of laser pulses that can fit in the reference period.\n",
    "\n",
    "# T_mw_off =  laser_D/laser_f\n",
    "# N_mw_pulses = round(laser_f/(ref_f*2))             #Number of microwave pulses that can fit in the reference period.\n",
    "# T_mw_on = (1 - laser_D)/laser_f                       #Microwave time on.\n",
    "\n",
    "\n",
    "# T_laser_on = 500e-6 #Chosen for signal resolution, as we are only doing 1 experiment under the reference for a long reference time.\n",
    "# T_laser_off = 1/(2*ref_f) - T_laser_on #500e-6\n",
    "# def T_idle(tau):\n",
    "#     return 1/(2*ref_f) - (2*T_laser_on + tau)\n",
    "# # #TODO: Write the required wait time as a function of tau.\n",
    "# # lock_in_amp.time_constant(3)#time constant here)\n",
    "# # lock_in_amp.sensitivity(10e-3)#sensativity here)\n",
    "\n",
    "# def T1_PP(T_pulse, tau = tau_f):\n",
    "#     pulse_blaster.reset_channel_buffer()  #Clear the previous pulse sequence.\n",
    "#     pulse_blaster.ch0.pulse_sequence_buffer.set(\n",
    "#         [pulse(level=1, duration=T_ref_on), pulse(level=0, duration=T_ref_off)]\n",
    "#     )                                     #Define the new pulse sequence for channel 0.\n",
    "#     pulse_blaster.ch1.pulse_sequence_buffer.set(\n",
    "#         [pulse(level=1, duration=T_laser_on), pulse(level=0, duration=2*tau + T_pulse), \n",
    "#          pulse(level=1, duration=T_laser_on), pulse(level=0, duration=T_ref_on - 2*T_laser_on - (2*tau + T_pulse)),\n",
    "#          pulse(level=1, duration=T_laser_on), pulse(level=0, duration=T_ref_on - T_laser_on)]\n",
    "#     )                                     #Define the new pulse sequence for channel 1.\n",
    "#     pulse_blaster.ch2.pulse_sequence_buffer.set(\n",
    "#         [pulse(level=0, duration=T_laser_on + tau), pulse(level=1, duration=T_pulse), \n",
    "#          pulse(level=0, duration=2*T_ref_on - T_pulse - T_laser_on - tau)]\n",
    "#     )         \n",
    "\n",
    "# T1_PP(T_pulse_f, tau=tau_f)\n",
    "# pulse_blaster.plot_channel_buffer()   #This function plots the newly defined pulse sequence."
   ]
  },
  {
   "cell_type": "code",
   "execution_count": 5,
   "id": "f77204ad",
   "metadata": {},
   "outputs": [],
   "source": [
    "# ref_f = 200\n",
    "# ref_D = 0.5\n",
    "# T_ref_on = ref_D/ref_f\n",
    "# T_ref_off = (1 - ref_D)/ref_f\n",
    "\n",
    "# laser_f = 100e3                                 #Laser modulation frequency.\n",
    "# laser_D = 0.3                                   #Laser modulation duty cycle.\n",
    "# T_laser_on = laser_D/laser_f                    #Laser on time. \n",
    "# T_laser_off = (1 - laser_D)/laser_f             #Laser off time.\n",
    "# N_laser_pulses = round(laser_f/ref_f)           #Number of laser pulses that can fit in the reference period.\n",
    "\n",
    "# T_mw_off =  laser_D/laser_f\n",
    "# N_mw_pulses = round(laser_f/(ref_f*2))          #Number of microwave pulses that can fit in the reference period.\n",
    "# T_mw_on = (1 - laser_D)/laser_f                 #Microwave time on.\n",
    "ref_f = 200\n",
    "ref_D = 0.5\n",
    "T_ref_on = ref_D/ref_f\n",
    "T_ref_off = (1 - ref_D)/ref_f\n",
    "\n",
    "laser_f = 100e3                                 #Laser modulation frequency.\n",
    "laser_D = 0.3                                   #Laser modulation duty cycle.\n",
    "T_laser_on = laser_D/laser_f                    #Laser on time. \n",
    "T_laser_off = (1 - laser_D)/laser_f             #Laser off time.\n",
    "N_laser_pulses = round(laser_f/ref_f)           #Number of laser pulses that can fit in the reference period.\n",
    "\n",
    "T_mw_off =  laser_D/laser_f\n",
    "N_mw_pulses = round(laser_f/(ref_f*2))          #Number of microwave pulses that can fit in the reference period.\n",
    "T_mw_on = (1 - laser_D)/laser_f                 #Microwave time on.\n",
    "T_ref_on = np.round(T_ref_on, 5)\n",
    "#T_laser_on = np.round(T_laser_on, 7)\n",
    "T_laser_on = 5e-6                  #Laser on time. \n",
    "T_laser_off = 15e-6    "
   ]
  },
  {
   "cell_type": "code",
   "execution_count": 6,
   "id": "f894504c",
   "metadata": {},
   "outputs": [
    {
     "name": "stdout",
     "output_type": "stream",
     "text": [
      "2.9999999999999992e-06 1e-06 1e-06 5e-06\n",
      "0.005\n",
      "0.005\n",
      "0.004999999999999986\n"
     ]
    },
    {
     "data": {
      "image/png": "[encoded data removed]",
      "text/plain": [
       "<Figure size 640x480 with 1 Axes>"
      ]
     },
     "metadata": {},
     "output_type": "display_data"
    },
    {
     "data": {
      "image/png": "[encoded data removed]",
      "text/plain": [
       "<Figure size 640x480 with 1 Axes>"
      ]
     },
     "metadata": {},
     "output_type": "display_data"
    },
    {
     "data": {
      "image/png": "[encoded data removed]",
      "text/plain": [
       "<Figure size 640x480 with 1 Axes>"
      ]
     },
     "metadata": {},
     "output_type": "display_data"
    }
   ],
   "source": [
    "lock_in_amp.time_constant(3)#Your time constant here)\n",
    "lock_in_amp.sensitivity(100e-12)#Your sensitivity here)\n",
    "microwave_src.power(-15)#Your power here) #<= 15\n",
    "microwave_src.frequency(2711557788.94472)#Chosen frequency here)\n",
    "\n",
    "ratio = 5\n",
    "tau_padding_right = 1e-6\n",
    "N_mw_pulses = 250\n",
    "\n",
    "def Rabi_Osc_PP(tau_mw):\n",
    "\n",
    "    N_laser_pulses = int(2 * N_mw_pulses)\n",
    "    delta_tau_ref = T_ref_on / N_mw_pulses\n",
    "    T_laser_on = 5e-6  #delta_tau_ref / ratio\n",
    "    T_laser_off = 15e-6   # delta_tau_ref - T_laser_on\n",
    "    tau_padding_left = delta_tau_ref - tau_mw - tau_padding_right - T_laser_on\n",
    "    print(tau_padding_left, tau_padding_right, tau_mw, T_laser_on)\n",
    "    assert(tau_padding_left >= 0)\n",
    "\n",
    "    # Channel 0\n",
    "\n",
    "    ch0_durations = [T_ref_on, T_ref_on]\n",
    "    ch0_levels = [1, 0]\n",
    "    \n",
    "    # Channel 1\n",
    "    ch1_durations = [T_laser_on, T_laser_off] * int(N_mw_pulses)\n",
    "    ch1_levels = [1, 0] * int(N_mw_pulses)\n",
    "\n",
    "    # Channel 2\n",
    "    ch2_durations = [T_laser_on, tau_padding_left, tau_mw, tau_padding_right]*(N_mw_pulses) + [T_ref_off]\n",
    "    ch2_levels = [0, 0, 1, 0]*(N_laser_pulses) + [0]\n",
    "    \n",
    "    channels = [0, 1, 2]\n",
    "    durations = [ch0_durations, ch1_durations, ch2_durations]\n",
    "    levels = [ch0_levels, ch1_levels, ch2_levels]\n",
    "\n",
    "    [print(sum(d)) for d in durations]\n",
    "    instruction = pulse_blaster.get_Instructions(channels, durations, levels)\n",
    "    return instruction\n",
    "\n",
    "T_mw_on_examp = 1e-6\n",
    "sequence = Rabi_Osc_PP(T_mw_on_examp)\n",
    "pulse_blaster.Plot_Sequence(sequence) "
   ]
  },
  {
   "cell_type": "code",
   "execution_count": 7,
   "id": "e7a3ccf4-8894-4890-aa24-7e7ac245a874",
   "metadata": {
    "scrolled": true
   },
   "outputs": [
    {
     "name": "stdout",
     "output_type": "stream",
     "text": [
      "Starting experimental run with id: 32. \n",
      "0\n",
      "3.98e-06 1e-06 2e-08 5e-06\n",
      "0.005\n",
      "0.005\n",
      "0.005000000000000006\n"
     ]
    },
    {
     "ename": "KeyboardInterrupt",
     "evalue": "",
     "output_type": "error",
     "traceback": [
      "\u001b[1;31m---------------------------------------------------------------------------\u001b[0m",
      "\u001b[1;31mKeyboardInterrupt\u001b[0m                         Traceback (most recent call last)",
      "Cell \u001b[1;32mIn[7], line 18\u001b[0m\n\u001b[0;32m     16\u001b[0m \u001b[38;5;66;03m#For getting your first data point with a new sequence, it helps to give the LIA more time to settle to drastic changes in input data.\u001b[39;00m\n\u001b[0;32m     17\u001b[0m \u001b[38;5;28;01mif\u001b[39;00m i \u001b[38;5;241m==\u001b[39m \u001b[38;5;241m0\u001b[39m:\n\u001b[1;32m---> 18\u001b[0m     sleep(\u001b[38;5;241m10\u001b[39m\u001b[38;5;241m*\u001b[39mlock_in_amp\u001b[38;5;241m.\u001b[39mtime_constant())\n\u001b[0;32m     19\u001b[0m \u001b[38;5;28;01melse\u001b[39;00m:\n\u001b[0;32m     20\u001b[0m     sleep(\u001b[38;5;241m5\u001b[39m\u001b[38;5;241m*\u001b[39mlock_in_amp\u001b[38;5;241m.\u001b[39mtime_constant())\n",
      "\u001b[1;31mKeyboardInterrupt\u001b[0m: "
     ]
    }
   ],
   "source": [
    "tau_mw_i = 20e-9\n",
    "tau_mw_f = 4e-6\n",
    "steps = 50\n",
    "tau_arr = np.linspace(tau_mw_i, tau_mw_f, steps)\n",
    "pulse_blaster.Stop()\n",
    "#Microwave needs to be off, so this is just to be sure it is.\n",
    "with meas.run() as datasaver:\n",
    "   # for i in list(range(0, int((tau_mw_f - tau_mw_i)/stepsize))):\n",
    "    for i in range(tau_arr.size):\n",
    "        print(i)\n",
    "        #Reinitialize the pulse sequence with the new tau.\n",
    "        #This is a good approach to initializing a new pulse sequence in a loop.\n",
    "        tau_mw = tau_arr[i]\n",
    "        sequence = Rabi_Osc_PP(tau_mw)\n",
    "        pulse_blaster.Run_Sequence(sequence)\n",
    "        #For getting your first data point with a new sequence, it helps to give the LIA more time to settle to drastic changes in input data.\n",
    "        if i == 0:\n",
    "            sleep(10*lock_in_amp.time_constant())\n",
    "        else:\n",
    "            sleep(5*lock_in_amp.time_constant())\n",
    "        # sleep(1)\n",
    "        ###############################\n",
    "        #Specify the data being saved below \n",
    "        datasaver.add_result((MW_on_time, tau_mw),\n",
    "                             (LI_R, lock_in_amp.R()))\n",
    "        ###############################\n",
    "        pulse_blaster.Stop()\n",
    "\n",
    "    T1 = datasaver.dataset  # convenient to have for data access and plotting\n",
    "   \n",
    "pulse_blaster.stop()\n",
    "T1_data = T1.to_pandas_dataframe()\n",
    "plt.plot(T1_data[\"Pulselength\"], T1_data[\"Signal\"])\n",
    "plt.xlabel('tau(s)')\n",
    "plt.ylabel('voltage(V)')\n",
    "plt.title('tau vs Voltage')\n",
    "plt.show()"
   ]
  },
  {
   "cell_type": "code",
   "execution_count": null,
   "id": "88fbb848-ffca-4dc3-8c26-04755ac89cb5",
   "metadata": {},
   "outputs": [],
   "source": [
    "T1_data.to_csv(\"rabi_test_3.csv\")"
   ]
  },
  {
   "cell_type": "code",
   "execution_count": null,
   "id": "d1b9882b-7aca-40be-80ef-3701cfe58529",
   "metadata": {},
   "outputs": [],
   "source": [
    "import pandas as pd"
   ]
  },
  {
   "cell_type": "code",
   "execution_count": null,
   "id": "1f07fd84-3af0-4516-984a-6c3a7b485fef",
   "metadata": {},
   "outputs": [],
   "source": [
    "plt.plot(pd.read_csv(\"rabi_test_1.csv\")[\"Pulselength\"], pd.read_csv(\"rabi_test_1.csv\")[\"Signal\"])"
   ]
  },
  {
   "cell_type": "code",
   "execution_count": null,
   "id": "4352f239-6318-47cf-ad98-b7eeb913d27c",
   "metadata": {},
   "outputs": [],
   "source": [
    "plt.plot(pd.read_csv(\"rabi_test_2.csv\")[\"Pulselength\"], pd.read_csv(\"rabi_test_2.csv\")[\"Signal\"])"
   ]
  },
  {
   "cell_type": "code",
   "execution_count": null,
   "id": "383e44b9-9702-44fb-8919-da76eb3c0cd2",
   "metadata": {},
   "outputs": [],
   "source": [
    "plt.plot(T1_data['Pulselength'], T1_data['Signal'])"
   ]
  },
  {
   "cell_type": "code",
   "execution_count": null,
   "id": "0818319b-9dd5-4ffb-a627-a3aafc7cae1e",
   "metadata": {},
   "outputs": [],
   "source": [
    "plt.scatter(T1_data['Pulselength'], T1_data['Signal'])"
   ]
  },
  {
   "cell_type": "code",
   "execution_count": null,
   "id": "83f1d080",
   "metadata": {},
   "outputs": [],
   "source": [
    "tau_mw_i = 50e-9\n",
    "tau_mw_f = 1e-6\n",
    "steps = 10\n",
    "tau_arr = np.linspace(tau_mw_i, tau_mw_f, steps)\n",
    "\n",
    "#Microwave needs to be off, so this is just to be sure it is.\n",
    "with meas.run() as datasaver:\n",
    "   # for i in list(range(0, int((tau_mw_f - tau_mw_i)/stepsize))):\n",
    "    for i in range(tau_arr.size):\n",
    "        #Reinitialize the pulse sequence with the new tau.\n",
    "        #This is a good approach to initializing a new pulse sequence in a loop.\n",
    "        tau_mw = tau_arr[i]\n",
    "        print(tau_mw)\n",
    "        Rabi_Osc_PP(tau_mw)\n",
    "        pulse_blaster.flush_channel_buffer()\n",
    "        #For getting your first data point with a new sequence, it helps to give the LIA more time to settle to drastic changes in input data.\n",
    "        if i == 0:\n",
    "            sleep(16*lock_in_amp.time_constant())\n",
    "        else:\n",
    "            sleep(8*lock_in_amp.time_constant())\n",
    "        ###############################\n",
    "        #Specify the data being saved below \n",
    "        datasaver.add_result((MW_on_time, tau_mw),\n",
    "                             (LI_R, lock_in_amp.R()))\n",
    "        ###############################\n",
    "\n",
    "    T1 = datasaver.dataset  # convenient to have for data access and plotting\n",
    "   \n",
    "pulse_blaster.stop()\n",
    "T1_data = T1.to_pandas_dataframe()\n",
    "plt.plot(T1_data[\"Pulselength\"], T1_data[\"Signal\"])\n",
    "plt.xlabel('tau(s)')\n",
    "plt.ylabel('voltage(V)')\n",
    "plt.title('tau vs Voltage')\n",
    "plt.show()"
   ]
  },
  {
   "cell_type": "code",
   "execution_count": null,
   "id": "91692977",
   "metadata": {},
   "outputs": [],
   "source": [
    "def get_T_mw_off(mw_on_time):\n",
    "    return #Your microwave off time determination code here\n",
    "N_mw_pulses =                     #Number of microwave pulses that can fit in the reference period.\n",
    "\n",
    "T_padding = 6e-6\n",
    "\n",
    "\n",
    "#Potentially useful set of test conditions for diagnosing misprogramming issues.\n",
    "print(1e6*T_ref_on, 1e6*T_ref_off)\n",
    "print(1e6*T_laser_on, 1e6*T_laser_off, N_laser_pulses)\n",
    "print(1e6*get_T_mw_off(T_mw_on_examp), 1e6*T_mw_on_examp, 1e6*T_padding, N_mw_pulses)\n",
    "\n",
    "def Rabi_Osc_PP(t_mw_on):\n",
    "    pulse_blaster.reset_channel_buffer()  #Clear the previous pulse sequence.\n",
    "    pulse_blaster.ch0.pulse_sequence_buffer.set(\n",
    "        #TODO: Enter the lock in reference frequency pulse sequence here.\n",
    "        \n",
    "    )                                     #Define the new pulse sequence for channel 0.\n",
    "    pulse_blaster.ch1.pulse_sequence_buffer.set(\n",
    "        #TODO: Enter the laser pulse sequencea here.\n",
    "        \n",
    "    )                                     #Define the new pulse sequence for channel 1.\n",
    "    pulse_blaster.ch2.pulse_sequence_buffer.set(\n",
    "        #TODO: Enter the microwave modulation pulse sequence here.\n",
    "        \n",
    "    )                                     #Define the new pulse sequence for channel 2.\n",
    "T_mw_on_examp = 1e-6\n",
    "Rabi_Osc_PP(T_mw_on_examp)\n",
    "pulse_blaster.plot_channel_buffer()   #This function plots the newly defined pulse sequence."
   ]
  },
  {
   "cell_type": "code",
   "execution_count": null,
   "id": "77cd4acb-9c55-49eb-9fce-5cf8c79ef481",
   "metadata": {},
   "outputs": [],
   "source": [
    "lock_in_amp.time_constant(#Your time constant here)\n",
    "lock_in_amp.sensitivity(#Your sensitivity here)\n",
    "\n",
    "dc_supply.ch1.voltage_setpoint(12)\n",
    "dc_supply.ch1.current_setpoint(#Your current here)\n",
    "\n",
    "#TODO: Chose microwave on stepsize, min, and maximum values for the experiment.\n",
    "min_mw_on =                   #Minimum frequency for the spectrum\n",
    "max_mw_on =                   #Maximum frequency for the spectrum,\n",
    "mw_on_stepsize =              #Time increase at each step"
   ]
  },
  {
   "cell_type": "markdown",
   "id": "821478f7-1de6-4a2a-8fef-67dfb4710f6d",
   "metadata": {},
   "source": [
    "Set the microwave power to 15 dBm. You will repeat this measurement for microwave powers of 12 dBm, 9 dBm, and 6 dBm."
   ]
  },
  {
   "cell_type": "code",
   "execution_count": null,
   "id": "f82e79ff-6efb-444a-b9f6-07fe3757508d",
   "metadata": {},
   "outputs": [],
   "source": [
    "microwave_src.output('ON')\n",
    "microwave_src.power(#Your power here)\n",
    "with meas.run() as datasaver:\n",
    "    ###########################\n",
    "    #Your experiment code here\n",
    "    \n",
    "    ###########################\n",
    "    Rabi = datasaver.dataset  # convenient to have for data access and plotting"
   ]
  },
  {
   "cell_type": "markdown",
   "id": "c5f07650-cb28-45f9-b5f0-5146825d4eb5",
   "metadata": {},
   "source": [
    "Write data analysis code to fit the data and determine the Rabi frequency."
   ]
  },
  {
   "cell_type": "code",
   "execution_count": null,
   "id": "3dc2e051-0e9d-44e2-8d24-6a4c1d00a2a5",
   "metadata": {},
   "outputs": [],
   "source": [
    "#TODO: Enter the initial fit params\n",
    "initial_fit_params =  [#Your initial fit parameters]     #[a, T, f_R, phi, c]\n",
    "def fit_model(x, a, b, f, p ,c):\n",
    "    return a * np.exp(-1.0 * x / b) * np.sin(2 * np.pi * f * x + p) + c"
   ]
  },
  {
   "cell_type": "markdown",
   "id": "c6f84883-6f96-4319-a9ac-a06d25ed92c7",
   "metadata": {},
   "source": [
    "## Note:\n",
    "For lab 3, you will need to use this template to determine the $\\pi$ and $\\pi/2$ pulselengths for X and Y rotation gates using Rabi oscillations at a given power. The section below can be done during either the lab 2 or lab 3 session:"
   ]
  },
  {
   "cell_type": "code",
   "execution_count": null,
   "id": "1ec425e1-db58-49a6-9f1f-6ce29ddf7839",
   "metadata": {},
   "outputs": [],
   "source": []
  }
 ],
 "metadata": {
  "kernelspec": {
   "display_name": "Python 3 (ipykernel)",
   "language": "python",
   "name": "python3"
  },
  "language_info": {
   "codemirror_mode": {
    "name": "ipython",
    "version": 3
   },
   "file_extension": ".py",
   "mimetype": "text/x-python",
   "name": "python",
   "nbconvert_exporter": "python",
   "pygments_lexer": "ipython3",
   "version": "3.12.2"
  }
 },
 "nbformat": 4,
 "nbformat_minor": 5
}
