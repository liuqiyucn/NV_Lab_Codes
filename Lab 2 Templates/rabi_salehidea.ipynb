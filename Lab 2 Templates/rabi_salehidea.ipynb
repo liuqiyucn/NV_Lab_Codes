{
 "cells": [
  {
   "cell_type": "code",
   "execution_count": 1,
   "id": "e1137f63-4566-4ff2-8798-e8a7b810cdf5",
   "metadata": {
    "tags": []
   },
   "outputs": [
    {
     "name": "stdout",
     "output_type": "stream",
     "text": [
      "Logging hadn't been started.\n",
      "Activating auto-logging. Current session state plus future input saved.\n",
      "Filename       : C:\\Users\\nv-group01\\.qcodes\\logs\\command_history.log\n",
      "Mode           : append\n",
      "Output logging : True\n",
      "Raw input log  : False\n",
      "Timestamping   : True\n",
      "State          : active\n",
      "Qcodes Logfile : C:\\Users\\nv-group01\\.qcodes\\logs\\240610-14768-qcodes.log\n"
     ]
    }
   ],
   "source": [
    "%matplotlib inline\n",
    "from pathlib import Path\n",
    "from time import monotonic, sleep\n",
    "\n",
    "import numpy as np\n",
    "import matplotlib.pyplot as plt\n",
    "import math\n",
    "\n",
    "import qcodes as qc\n",
    "from qcodes.dataset import (\n",
    "    Measurement,\n",
    "    initialise_or_create_database_at,\n",
    "    load_by_guid,\n",
    "    load_by_run_spec,\n",
    "    load_or_create_experiment,\n",
    "    plot_dataset,\n",
    ")\n",
    "from qcodes.dataset.descriptions.detect_shapes import detect_shape_of_measurement\n",
    "from qcodes.logger import start_all_logging\n",
    "start_all_logging()\n",
    "\n",
    "from scipy.optimize import curve_fit\n",
    "import numpy as np\n",
    "\n",
    "from ultolib import (anritsu, korad, spincore)\n",
    "from ultolib.spincore import pulse\n",
    "import qcodes.instrument_drivers.stanford_research as stanford_research"
   ]
  },
  {
   "cell_type": "code",
   "execution_count": 2,
   "id": "3f90313d-56a0-4a22-ba8e-78b3490d9df8",
   "metadata": {
    "tags": []
   },
   "outputs": [
    {
     "name": "stdout",
     "output_type": "stream",
     "text": [
      "Connected to: Stanford_Research_Systems SR830 (serial:s/n32132, firmware:ver1.07) in 0.87s\n",
      "Connected to: ANRITSU MG3681A (serial:6100146424, firmware:3.03) in 0.22s\n",
      "Connected to: KORAD KD3005P V6.7 SN 48562561 (serial:None, firmware:None) in 0.06s\n"
     ]
    },
    {
     "data": {
      "text/plain": [
       "0"
      ]
     },
     "execution_count": 2,
     "metadata": {},
     "output_type": "execute_result"
    }
   ],
   "source": [
    "# Note : this will generate two deprecation warnings when creating the pulse_blaster\n",
    "pulse_blaster = spincore.PulseBlasterESRPRO(name='pulse_blaster', board_number=0)\n",
    "pulse_blaster.core_clock(500)                     #Sets the clock speed, \n",
    "                                                  #must be called immediately after connecting to the PulseBlaster\n",
    "lock_in_amp = stanford_research.SR830(name='lock_in_amp', address='ASRL5::INSTR', terminator='\\r')\n",
    "\n",
    "microwave_src=anritsu.MG3681A(name='microwave_src', address='ASRL4::INSTR', terminator='\\r\\n')\n",
    "microwave_src.output('OFF')\n",
    "microwave_src.output_level_unit('dBm')\n",
    "microwave_src.IQ_modulation('EXT')\n",
    "\n",
    "dc_supply = korad.KD3305P('dc_supply', 'ASRL6::INSTR')\n",
    "dc_supply.ch1.voltage_setpoint(0)\n",
    "dc_supply.ch1.current_setpoint(0)\n",
    "\n",
    "pulse_blaster.stop()"
   ]
  },
  {
   "cell_type": "markdown",
   "id": "30de493f-7070-436e-b5b7-8ae052ffa7b8",
   "metadata": {},
   "source": [
    "## Task 2.3: The Hyperfine Splitting\n",
    "\n",
    "The negatively charged vacancy in the NV center couples to the spin of its 14N nuclei which is a non-zero spin system. This will lead to further splitting of the electronic energy levels, known as hyperfine splitting.\n",
    "\n",
    "For this task set the magnetic field to 0.005 T. \n",
    "\n",
    "Note: For this task, Task 2.2 must have been completed and the coil_constant determined."
   ]
  },
  {
   "cell_type": "code",
   "execution_count": 3,
   "id": "860ac341-5e38-4710-a5c2-3d64d560b360",
   "metadata": {
    "tags": []
   },
   "outputs": [],
   "source": [
    "coil_constant =  0.01 #Coil constant value determined in ODMR Magnetometry lab\n",
    "B0 = 0.005\n",
    "I0 = B0/coil_constant\n",
    "dc_supply.ch1.voltage_setpoint(12)\n",
    "dc_supply.ch1.current_setpoint(I0)"
   ]
  },
  {
   "cell_type": "markdown",
   "id": "d4ae688c-76cb-4981-a6a4-34adbffb1d33",
   "metadata": {},
   "source": [
    "Perform an ODMR experiment to find the resonance peak at the highest frequency. Ensure that the coil current is not so high that the resonance of the peak exceeds 3 GHz. If that is the case, lower the B0 in the above code cell. You can consult your ODMR map to get an idea about the frequency range. For this ODMR peak, we will perform a high resolution ODMR scan centered around the chosen peak. Enter the values for the minimum and maximum frequencies to be scanned in the spectrum, below. Initially, it may help to scan a larger range in order to locqate the peak and then tighten the range to get a better scan.\n",
    "\n",
    "Repeat this experiment for microwave powers 9 dbm, 6 dBm and -3 dB. You may have to increase the lock-in amplifier time constant at -3 dBm.\n",
    "**The microwave frequency must be $\\leq 3$ GHz.**"
   ]
  },
  {
   "cell_type": "code",
   "execution_count": 4,
   "id": "d54eca02-1aab-4270-98ab-8a4a307b937b",
   "metadata": {
    "tags": []
   },
   "outputs": [
    {
     "data": {
      "text/plain": [
       "<qcodes.dataset.measurements.Measurement at 0x216e9831eb0>"
      ]
     },
     "execution_count": 4,
     "metadata": {},
     "output_type": "execute_result"
    }
   ],
   "source": [
    "#Use this to make a parameter out of anything!\n",
    "MW= qc.ManualParameter('Frequency', unit='Hz')\n",
    "LI_R = qc.ManualParameter('Signal', unit='V')\n",
    "\n",
    "#We start by stopping the laser pulsing. This way we can properly initialize.\n",
    "initialise_or_create_database_at(Path.cwd() / \"Hyperfine Splitting.db\")\n",
    "experiment = load_or_create_experiment(\n",
    "    experiment_name='Hyperfine Splitting',\n",
    "    sample_name=\"\"\n",
    ")\n",
    "\n",
    "meas = Measurement(exp=experiment, name='Hyperfine Splitting')\n",
    "meas.register_parameter(MW)  # register the first independent parameter\n",
    "meas.register_parameter(LI_R) # now register the dependent one"
   ]
  },
  {
   "cell_type": "code",
   "execution_count": 6,
   "id": "b1cc858d-3334-4c96-a6f3-fc7c74c30be5",
   "metadata": {
    "tags": []
   },
   "outputs": [
    {
     "data": {
      "image/png": "[encoded data removed]",
      "text/plain": [
       "<Figure size 640x480 with 3 Axes>"
      ]
     },
     "metadata": {},
     "output_type": "display_data"
    }
   ],
   "source": [
    "ref_f = 200                                 #Reference frequency.\n",
    "ref_D =  0.5                                #Reference duty cycle.\n",
    "T_ref_on =  ref_D/ref_f                             #Reference time on.\n",
    "T_ref_off =  (1-ref_D) / ref_f                            #Reference time off.\n",
    "\n",
    "\n",
    "laser_f = 100e3                              #Laser modulation frequency.\n",
    "laser_D =  0.3                              #Laser modulation duty cycle.\n",
    "T_laser_on =  laser_D/laser_f                           #Laser on time. \n",
    "T_laser_off =  (1-laser_D)/laser_f                          #Laser off time.\n",
    "N_laser_pulses =  round(laser_f/ref_f)                       #Number of laser pulses that can fit in the reference period.\n",
    "\n",
    "mw_f =  laser_f                                 #Microwave modulation frequency.\n",
    "mw_D =  laser_D                                 #Microwave modulation duty cycle.\n",
    "T_mw_on =  (1-laser_D)/laser_f                             #Microwave time on.\n",
    "T_mw_off =  laser_D/laser_f                             #Microwave time off.\n",
    "N_mw_pulses =  round(laser_f/(ref_f*2))                          #Number of microwave pulses that can fit in the reference period.\n",
    "\n",
    "tau = 1e-6\n",
    "# T_padding = \n",
    "# T_mw_off -= T_padding\n",
    "\n",
    "\n",
    "def Hyperfine_Splitting_PP(T_mw_on):\n",
    "    pulse_blaster.reset_channel_buffer()  #Clear the previous pulse sequence.\n",
    "    pulse_blaster.ch0.pulse_sequence_buffer.set(\n",
    "        [pulse(level=1, duration=T_ref_on), pulse(level=0, duration=T_ref_off)]\n",
    "    )                                     #Define the new pulse sequence for channel 0.\n",
    "    pulse_blaster.ch1.pulse_sequence_buffer.set(\n",
    "        [[pulse(level=1, duration=T_laser_on), pulse(level=0, duration=T_laser_off)] for i in range(0, N_laser_pulses)]   \n",
    "    #TODO: Enter the laser pulse sequence.\n",
    "        \n",
    "    )                                     #Define the new pulse sequence for channel 1.\n",
    "    pulse_blaster.ch2.pulse_sequence_buffer.set(\n",
    "        [[pulse(level=0, duration=T_mw_off+tau), pulse(level=1, duration= T_mw_on-2*tau),  pulse(level=0, duration=tau)] for i in range(0, N_mw_pulses)] +\n",
    "        [pulse(level=0, duration=float(1/(2*ref_f)))]\n",
    "    )                                     #Define the new pulse sequence for channel 2.\n",
    "\n",
    "Hyperfine_Splitting_PP()\n",
    "pulse_blaster.plot_channel_buffer()"
   ]
  },
  {
   "cell_type": "code",
   "execution_count": 6,
   "id": "66252d66-3dbc-44c5-b80b-7d7c95ba380a",
   "metadata": {
    "tags": []
   },
   "outputs": [],
   "source": [
    "pulse_blaster.stop()\n",
    "microwave_src.output('OFF')\n",
    "\n",
    "lock_in_amp.time_constant(3)\n",
    "lock_in_amp.sensitivity(100e-12)\n",
    "\n",
    "#TODO: Enter the ODMR frequency range.\n",
    "#NOTE: Must not be > 3 GHz (why not? Couldn't we interleave the channels part way through to look at a larger range?)\n",
    "#TODO: Enter the ODMR frequency range.\n",
    "min_frequency = 2.760e9#2.751616e+09#2.6e9                  #Minimum frequency for the spectrum\n",
    "max_frequency = 2.772e9#2.777778e+09#3e9                  #Maximum frequency for the spectrum, #Must not be > 3 GHz.\n",
    "# min_frequency = 2.6e9#2.751616e+09#2.6e9                  #Minimum frequency for the spectrum\n",
    "# max_frequency = 3e9#2.777778e+09#3e9                  #Maximum frequency for the spectrum, #Must not be > 3 GHz.\n",
    "num_freq_step = 230\n",
    "freqs = np.linspace(min_frequency, max_frequency, num_freq_step)"
   ]
  },
  {
   "cell_type": "code",
   "execution_count": 7,
   "id": "3bb34980",
   "metadata": {},
   "outputs": [],
   "source": [
    "result = []"
   ]
  },
  {
   "cell_type": "code",
   "execution_count": 8,
   "id": "424e093d-777a-43d2-ae8f-8bfe338d0b8e",
   "metadata": {
    "tags": []
   },
   "outputs": [
    {
     "name": "stdout",
     "output_type": "stream",
     "text": [
      "Starting experimental run with id: 22. \n",
      "Currently run: 0/230 at 2.76 GHz\n",
      "Currently run: 1/230 at 2.7601 GHz\n",
      "Currently run: 2/230 at 2.7601 GHz\n",
      "Currently run: 3/230 at 2.7602 GHz\n",
      "Currently run: 4/230 at 2.7602 GHz\n",
      "Currently run: 5/230 at 2.7603 GHz\n",
      "Currently run: 6/230 at 2.7603 GHz\n",
      "Currently run: 7/230 at 2.7604 GHz\n",
      "Currently run: 8/230 at 2.7604 GHz\n",
      "Currently run: 9/230 at 2.7605 GHz\n",
      "Currently run: 10/230 at 2.7605 GHz\n",
      "Currently run: 11/230 at 2.7606 GHz\n",
      "Currently run: 12/230 at 2.7606 GHz\n",
      "Currently run: 13/230 at 2.7607 GHz\n",
      "Currently run: 14/230 at 2.7607 GHz\n",
      "Currently run: 15/230 at 2.7608 GHz\n",
      "Currently run: 16/230 at 2.7608 GHz\n",
      "Currently run: 17/230 at 2.7609 GHz\n",
      "Currently run: 18/230 at 2.7609 GHz\n",
      "Currently run: 19/230 at 2.761 GHz\n",
      "Currently run: 20/230 at 2.761 GHz\n",
      "Currently run: 21/230 at 2.7611 GHz\n",
      "Currently run: 22/230 at 2.7612 GHz\n",
      "Currently run: 23/230 at 2.7612 GHz\n",
      "Currently run: 24/230 at 2.7613 GHz\n",
      "Currently run: 25/230 at 2.7613 GHz\n",
      "Currently run: 26/230 at 2.7614 GHz\n",
      "Currently run: 27/230 at 2.7614 GHz\n",
      "Currently run: 28/230 at 2.7615 GHz\n",
      "Currently run: 29/230 at 2.7615 GHz\n",
      "Currently run: 30/230 at 2.7616 GHz\n",
      "Currently run: 31/230 at 2.7616 GHz\n",
      "Currently run: 32/230 at 2.7617 GHz\n",
      "Currently run: 33/230 at 2.7617 GHz\n",
      "Currently run: 34/230 at 2.7618 GHz\n",
      "Currently run: 35/230 at 2.7618 GHz\n",
      "Currently run: 36/230 at 2.7619 GHz\n",
      "Currently run: 37/230 at 2.7619 GHz\n",
      "Currently run: 38/230 at 2.762 GHz\n",
      "Currently run: 39/230 at 2.762 GHz\n",
      "Currently run: 40/230 at 2.7621 GHz\n",
      "Currently run: 41/230 at 2.7621 GHz\n",
      "Currently run: 42/230 at 2.7622 GHz\n",
      "Currently run: 43/230 at 2.7623 GHz\n",
      "Currently run: 44/230 at 2.7623 GHz\n",
      "Currently run: 45/230 at 2.7624 GHz\n",
      "Currently run: 46/230 at 2.7624 GHz\n",
      "Currently run: 47/230 at 2.7625 GHz\n",
      "Currently run: 48/230 at 2.7625 GHz\n",
      "Currently run: 49/230 at 2.7626 GHz\n",
      "Currently run: 50/230 at 2.7626 GHz\n",
      "Currently run: 51/230 at 2.7627 GHz\n",
      "Currently run: 52/230 at 2.7627 GHz\n",
      "Currently run: 53/230 at 2.7628 GHz\n",
      "Currently run: 54/230 at 2.7628 GHz\n",
      "Currently run: 55/230 at 2.7629 GHz\n",
      "Currently run: 56/230 at 2.7629 GHz\n",
      "Currently run: 57/230 at 2.763 GHz\n",
      "Currently run: 58/230 at 2.763 GHz\n",
      "Currently run: 59/230 at 2.7631 GHz\n",
      "Currently run: 60/230 at 2.7631 GHz\n",
      "Currently run: 61/230 at 2.7632 GHz\n",
      "Currently run: 62/230 at 2.7632 GHz\n",
      "Currently run: 63/230 at 2.7633 GHz\n",
      "Currently run: 64/230 at 2.7634 GHz\n",
      "Currently run: 65/230 at 2.7634 GHz\n",
      "Currently run: 66/230 at 2.7635 GHz\n",
      "Currently run: 67/230 at 2.7635 GHz\n",
      "Currently run: 68/230 at 2.7636 GHz\n",
      "Currently run: 69/230 at 2.7636 GHz\n",
      "Currently run: 70/230 at 2.7637 GHz\n",
      "Currently run: 71/230 at 2.7637 GHz\n",
      "Currently run: 72/230 at 2.7638 GHz\n",
      "Currently run: 73/230 at 2.7638 GHz\n",
      "Currently run: 74/230 at 2.7639 GHz\n",
      "Currently run: 75/230 at 2.7639 GHz\n",
      "Currently run: 76/230 at 2.764 GHz\n",
      "Currently run: 77/230 at 2.764 GHz\n",
      "Currently run: 78/230 at 2.7641 GHz\n",
      "Currently run: 79/230 at 2.7641 GHz\n",
      "Currently run: 80/230 at 2.7642 GHz\n",
      "Currently run: 81/230 at 2.7642 GHz\n",
      "Currently run: 82/230 at 2.7643 GHz\n",
      "Currently run: 83/230 at 2.7643 GHz\n",
      "Currently run: 84/230 at 2.7644 GHz\n",
      "Currently run: 85/230 at 2.7645 GHz\n",
      "Currently run: 86/230 at 2.7645 GHz\n",
      "Currently run: 87/230 at 2.7646 GHz\n",
      "Currently run: 88/230 at 2.7646 GHz\n",
      "Currently run: 89/230 at 2.7647 GHz\n",
      "Currently run: 90/230 at 2.7647 GHz\n",
      "Currently run: 91/230 at 2.7648 GHz\n",
      "Currently run: 92/230 at 2.7648 GHz\n",
      "Currently run: 93/230 at 2.7649 GHz\n",
      "Currently run: 94/230 at 2.7649 GHz\n",
      "Currently run: 95/230 at 2.765 GHz\n",
      "Currently run: 96/230 at 2.765 GHz\n",
      "Currently run: 97/230 at 2.7651 GHz\n",
      "Currently run: 98/230 at 2.7651 GHz\n",
      "Currently run: 99/230 at 2.7652 GHz\n",
      "Currently run: 100/230 at 2.7652 GHz\n",
      "Currently run: 101/230 at 2.7653 GHz\n",
      "Currently run: 102/230 at 2.7653 GHz\n",
      "Currently run: 103/230 at 2.7654 GHz\n",
      "Currently run: 104/230 at 2.7654 GHz\n",
      "Currently run: 105/230 at 2.7655 GHz\n",
      "Currently run: 106/230 at 2.7656 GHz\n",
      "Currently run: 107/230 at 2.7656 GHz\n",
      "Currently run: 108/230 at 2.7657 GHz\n",
      "Currently run: 109/230 at 2.7657 GHz\n",
      "Currently run: 110/230 at 2.7658 GHz\n",
      "Currently run: 111/230 at 2.7658 GHz\n",
      "Currently run: 112/230 at 2.7659 GHz\n",
      "Currently run: 113/230 at 2.7659 GHz\n",
      "Currently run: 114/230 at 2.766 GHz\n",
      "Currently run: 115/230 at 2.766 GHz\n",
      "Currently run: 116/230 at 2.7661 GHz\n",
      "Currently run: 117/230 at 2.7661 GHz\n",
      "Currently run: 118/230 at 2.7662 GHz\n",
      "Currently run: 119/230 at 2.7662 GHz\n",
      "Currently run: 120/230 at 2.7663 GHz\n",
      "Currently run: 121/230 at 2.7663 GHz\n",
      "Currently run: 122/230 at 2.7664 GHz\n",
      "Currently run: 123/230 at 2.7664 GHz\n",
      "Currently run: 124/230 at 2.7665 GHz\n",
      "Currently run: 125/230 at 2.7666 GHz\n",
      "Currently run: 126/230 at 2.7666 GHz\n",
      "Currently run: 127/230 at 2.7667 GHz\n",
      "Currently run: 128/230 at 2.7667 GHz\n",
      "Currently run: 129/230 at 2.7668 GHz\n",
      "Currently run: 130/230 at 2.7668 GHz\n",
      "Currently run: 131/230 at 2.7669 GHz\n",
      "Currently run: 132/230 at 2.7669 GHz\n",
      "Currently run: 133/230 at 2.767 GHz\n",
      "Currently run: 134/230 at 2.767 GHz\n",
      "Currently run: 135/230 at 2.7671 GHz\n",
      "Currently run: 136/230 at 2.7671 GHz\n",
      "Currently run: 137/230 at 2.7672 GHz\n",
      "Currently run: 138/230 at 2.7672 GHz\n",
      "Currently run: 139/230 at 2.7673 GHz\n",
      "Currently run: 140/230 at 2.7673 GHz\n",
      "Currently run: 141/230 at 2.7674 GHz\n",
      "Currently run: 142/230 at 2.7674 GHz\n",
      "Currently run: 143/230 at 2.7675 GHz\n",
      "Currently run: 144/230 at 2.7675 GHz\n",
      "Currently run: 145/230 at 2.7676 GHz\n",
      "Currently run: 146/230 at 2.7677 GHz\n",
      "Currently run: 147/230 at 2.7677 GHz\n",
      "Currently run: 148/230 at 2.7678 GHz\n",
      "Currently run: 149/230 at 2.7678 GHz\n",
      "Currently run: 150/230 at 2.7679 GHz\n",
      "Currently run: 151/230 at 2.7679 GHz\n",
      "Currently run: 152/230 at 2.768 GHz\n",
      "Currently run: 153/230 at 2.768 GHz\n",
      "Currently run: 154/230 at 2.7681 GHz\n",
      "Currently run: 155/230 at 2.7681 GHz\n",
      "Currently run: 156/230 at 2.7682 GHz\n",
      "Currently run: 157/230 at 2.7682 GHz\n",
      "Currently run: 158/230 at 2.7683 GHz\n",
      "Currently run: 159/230 at 2.7683 GHz\n",
      "Currently run: 160/230 at 2.7684 GHz\n",
      "Currently run: 161/230 at 2.7684 GHz\n",
      "Currently run: 162/230 at 2.7685 GHz\n",
      "Currently run: 163/230 at 2.7685 GHz\n",
      "Currently run: 164/230 at 2.7686 GHz\n",
      "Currently run: 165/230 at 2.7686 GHz\n",
      "Currently run: 166/230 at 2.7687 GHz\n",
      "Currently run: 167/230 at 2.7688 GHz\n",
      "Currently run: 168/230 at 2.7688 GHz\n",
      "Currently run: 169/230 at 2.7689 GHz\n",
      "Currently run: 170/230 at 2.7689 GHz\n",
      "Currently run: 171/230 at 2.769 GHz\n",
      "Currently run: 172/230 at 2.769 GHz\n",
      "Currently run: 173/230 at 2.7691 GHz\n",
      "Currently run: 174/230 at 2.7691 GHz\n",
      "Currently run: 175/230 at 2.7692 GHz\n",
      "Currently run: 176/230 at 2.7692 GHz\n",
      "Currently run: 177/230 at 2.7693 GHz\n",
      "Currently run: 178/230 at 2.7693 GHz\n",
      "Currently run: 179/230 at 2.7694 GHz\n",
      "Currently run: 180/230 at 2.7694 GHz\n",
      "Currently run: 181/230 at 2.7695 GHz\n",
      "Currently run: 182/230 at 2.7695 GHz\n",
      "Currently run: 183/230 at 2.7696 GHz\n",
      "Currently run: 184/230 at 2.7696 GHz\n",
      "Currently run: 185/230 at 2.7697 GHz\n",
      "Currently run: 186/230 at 2.7697 GHz\n",
      "Currently run: 187/230 at 2.7698 GHz\n",
      "Currently run: 188/230 at 2.7699 GHz\n",
      "Currently run: 189/230 at 2.7699 GHz\n",
      "Currently run: 190/230 at 2.77 GHz\n",
      "Currently run: 191/230 at 2.77 GHz\n",
      "Currently run: 192/230 at 2.7701 GHz\n",
      "Currently run: 193/230 at 2.7701 GHz\n",
      "Currently run: 194/230 at 2.7702 GHz\n",
      "Currently run: 195/230 at 2.7702 GHz\n",
      "Currently run: 196/230 at 2.7703 GHz\n",
      "Currently run: 197/230 at 2.7703 GHz\n",
      "Currently run: 198/230 at 2.7704 GHz\n",
      "Currently run: 199/230 at 2.7704 GHz\n",
      "Currently run: 200/230 at 2.7705 GHz\n",
      "Currently run: 201/230 at 2.7705 GHz\n",
      "Currently run: 202/230 at 2.7706 GHz\n",
      "Currently run: 203/230 at 2.7706 GHz\n",
      "Currently run: 204/230 at 2.7707 GHz\n",
      "Currently run: 205/230 at 2.7707 GHz\n",
      "Currently run: 206/230 at 2.7708 GHz\n",
      "Currently run: 207/230 at 2.7708 GHz\n",
      "Currently run: 208/230 at 2.7709 GHz\n",
      "Currently run: 209/230 at 2.771 GHz\n",
      "Currently run: 210/230 at 2.771 GHz\n",
      "Currently run: 211/230 at 2.7711 GHz\n",
      "Currently run: 212/230 at 2.7711 GHz\n",
      "Currently run: 213/230 at 2.7712 GHz\n",
      "Currently run: 214/230 at 2.7712 GHz\n",
      "Currently run: 215/230 at 2.7713 GHz\n",
      "Currently run: 216/230 at 2.7713 GHz\n",
      "Currently run: 217/230 at 2.7714 GHz\n",
      "Currently run: 218/230 at 2.7714 GHz\n",
      "Currently run: 219/230 at 2.7715 GHz\n",
      "Currently run: 220/230 at 2.7715 GHz\n",
      "Currently run: 221/230 at 2.7716 GHz\n",
      "Currently run: 222/230 at 2.7716 GHz\n",
      "Currently run: 223/230 at 2.7717 GHz\n",
      "Currently run: 224/230 at 2.7717 GHz\n",
      "Currently run: 225/230 at 2.7718 GHz\n",
      "Currently run: 226/230 at 2.7718 GHz\n",
      "Currently run: 227/230 at 2.7719 GHz\n",
      "Currently run: 228/230 at 2.7719 GHz\n",
      "Currently run: 229/230 at 2.772 GHz\n"
     ]
    }
   ],
   "source": [
    "import time\n",
    "#Run the experiment\n",
    "microwave_src.IQ_modulation('EXT')\n",
    "microwave_src.output('ON')\n",
    "Hyperfine_Splitting_PP()\n",
    "pulse_blaster.flush_channel_buffer()\n",
    "\n",
    "# change power = [-3, 6, 9]\n",
    "powers = [-15]\n",
    "freq_range = [] # list of tuple\n",
    "#result = []\n",
    "Hyperfine_Splitting_PP()\n",
    "\n",
    "for power in powers:\n",
    "    microwave_src.power(power)\n",
    "    with meas.run() as datasaver:\n",
    "        for i in range(freqs.size):\n",
    "            microwave_src.frequency(freqs[i])\n",
    "            time.sleep(1)\n",
    "            print(f'Currently run: {i}/{freqs.size} at {np.round(freqs[i]/1e9, 4)} GHz')\n",
    "            pulse_blaster.flush_channel_buffer()\n",
    "            ##########################\n",
    "            #Your experiment code here\n",
    "            if i == 0:\n",
    "                sleep(16*lock_in_amp.time_constant())\n",
    "            else:\n",
    "                sleep(8*lock_in_amp.time_constant())\n",
    "            ##########################\n",
    "            datasaver.add_result((MW, freqs[i]),\n",
    "                                (LI_R, lock_in_amp.R()))\n",
    "        \n",
    "        \n",
    "        ODMR_data = datasaver.dataset\n",
    "        result.append(ODMR_data)"
   ]
  },
  {
   "cell_type": "markdown",
   "id": "7b12ada3",
   "metadata": {},
   "source": [
    "def plot_vertical_lines(x_positions, ymin, ymax):\n",
    "    for x in x_positions:\n",
    "        plt.axvline(x=x, color='r', linestyle='--')  # Adjust color and linestyle as needed\n",
    "    plt.ylim(ymin, ymax)  # Adjust y-axis limits as needed\n",
    "\n",
    "def find_local_maxima(func_values, window_size=3, tolerance=0):\n",
    "    maxima = []\n",
    "    n = len(func_values)\n",
    "    if n < window_size:\n",
    "        return maxima  # Not enough elements to find local maxima\n",
    "\n",
    "    for i in range(n):\n",
    "        left = max(0, i - window_size // 2)\n",
    "        right = min(n, i + window_size // 2 + 1)\n",
    "        if func_values[i] >= max(func_values[left:right]) + tolerance:\n",
    "            # maxima.append((i, func_values[i]))\n",
    "            maxima.append((i))\n",
    "    return maxima"
   ]
  },
  {
   "cell_type": "markdown",
   "id": "c823e6f6",
   "metadata": {},
   "source": [
    "ODMR_data = result[0]"
   ]
  },
  {
   "cell_type": "markdown",
   "id": "0ee7da8e",
   "metadata": {},
   "source": [
    "df = ODMR_data.to_pandas_dataframe()"
   ]
  },
  {
   "cell_type": "markdown",
   "id": "ecee3fdf",
   "metadata": {},
   "source": [
    "df"
   ]
  },
  {
   "cell_type": "markdown",
   "id": "2255e26f",
   "metadata": {},
   "source": [
    "plt.plot(df['Frequency']/1e9, df['Signal']/1e9)"
   ]
  },
  {
   "cell_type": "markdown",
   "id": "008b5de2",
   "metadata": {},
   "source": [
    "df.to_csv(f'Hyperfine_{np.round(min_frequency/1e9, 5)}_{np.round(max_frequency/1e9, 6)}.csv')"
   ]
  },
  {
   "cell_type": "markdown",
   "id": "6a5d20b8",
   "metadata": {},
   "source": [
    "import pandas as pd"
   ]
  },
  {
   "cell_type": "markdown",
   "id": "49fff19d",
   "metadata": {},
   "source": [
    "df1 = pd.read_csv('Hyperfine_2.763_2.77.csv')\n",
    "df2 = pd.read_csv('Hyperfine_2.76_2.772.csv')"
   ]
  },
  {
   "cell_type": "markdown",
   "id": "d11b91fe",
   "metadata": {},
   "source": [
    "plt.plot(df1['Frequency'], df1['Signal'], 'o')\n",
    "plt.plot(df2['Frequency'], df2['Signal'], 'o')"
   ]
  },
  {
   "cell_type": "markdown",
   "id": "3245a628",
   "metadata": {},
   "source": [
    "%pwd"
   ]
  },
  {
   "cell_type": "markdown",
   "id": "55d2a022",
   "metadata": {},
   "source": [
    "# ODMR_data = result[0]\n",
    "# ODMR = ODMR_data.to_pandas_dataframe()\n",
    "# ODMR = ODMR_data.to_pandas_dataframe()\n",
    "# indices = find_local_maxima(ODMR['Signal'], window_size=3)# tolerance=0.01e-11) \n",
    "# signal = ODMR['Signal']\n",
    "# peaks = [freqs[i] for i in indices if signal[i] > 0.13e-11]"
   ]
  },
  {
   "cell_type": "markdown",
   "id": "9cf6ea66",
   "metadata": {},
   "source": [
    "# ODMR.to_csv(\"hyperfine_data/-9db.csv\")"
   ]
  },
  {
   "cell_type": "markdown",
   "id": "f0894aa7",
   "metadata": {},
   "source": [
    "# import pandas as pd\n",
    "# df = []\n",
    "# for power in [-3, -9, 6, 9]:\n",
    "#     df.append(pd.read_csv(f\"./hyperfine_data/{power}db.csv\"))"
   ]
  },
  {
   "cell_type": "markdown",
   "id": "9ad679bf",
   "metadata": {},
   "source": [
    "powers = [-3, -9, 6, 9]"
   ]
  },
  {
   "cell_type": "markdown",
   "id": "2b8535c7",
   "metadata": {},
   "source": [
    "\n",
    "import numpy as np\n",
    "import matplotlib.pyplot as plt\n",
    "import math"
   ]
  },
  {
   "cell_type": "markdown",
   "id": "4e958148",
   "metadata": {},
   "source": [
    "for ODMR, power in zip(df, powers):\n",
    "    plt.plot(ODMR[\"Frequency\"], ODMR[\"Signal\"])\n",
    "    plt.xlabel('Frequency(Hz)')\n",
    "    plt.ylabel('Signal(V)')\n",
    "    plt.title(f'Hyperfine Splitting ({power}dBm)')\n",
    "    #plt.xlim(2.7630e9, 2.7680e9)\n",
    "    if power == -9:\n",
    "        plt.xlim(2.7628e9, 2.7690e9)\n",
    "    plt.savefig(f\"./hyperfine_pics/hyperfine_{power}.png\")\n",
    "    plt.show()"
   ]
  }
 ],
 "metadata": {
  "kernelspec": {
   "display_name": "Python 3 (ipykernel)",
   "language": "python",
   "name": "python3"
  },
  "language_info": {
   "codemirror_mode": {
    "name": "ipython",
    "version": 3
   },
   "file_extension": ".py",
   "mimetype": "text/x-python",
   "name": "python",
   "nbconvert_exporter": "python",
   "pygments_lexer": "ipython3",
   "version": "3.12.2"
  }
 },
 "nbformat": 4,
 "nbformat_minor": 5
}
