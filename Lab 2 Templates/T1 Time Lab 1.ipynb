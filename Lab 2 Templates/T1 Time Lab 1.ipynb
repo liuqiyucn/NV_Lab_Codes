{
 "cells": [
  {
   "cell_type": "markdown",
   "id": "776efd69-5648-44cb-abda-2e5839cfbff5",
   "metadata": {
    "tags": []
   },
   "source": [
    "Remember to restart the kernal in your previous Jupyter Lab document to break the connection with any other devices before beginning this one."
   ]
  },
  {
   "cell_type": "code",
   "execution_count": 2,
   "id": "a8af4c44",
   "metadata": {},
   "outputs": [
    {
     "name": "stdout",
     "output_type": "stream",
     "text": [
      "Activating auto-logging. Current session state plus future input saved.\n",
      "Filename       : C:\\Users\\nv-group01\\.qcodes\\logs\\command_history.log\n",
      "Mode           : append\n",
      "Output logging : True\n",
      "Raw input log  : False\n",
      "Timestamping   : True\n",
      "State          : active\n",
      "Qcodes Logfile : C:\\Users\\nv-group01\\.qcodes\\logs\\240506-27908-qcodes.log\n"
     ]
    }
   ],
   "source": [
    "%matplotlib inline\n",
    "from IPython.display import Image\n",
    "from IPython.core.display import HTML\n",
    "from pathlib import Path\n",
    "from time import monotonic, sleep\n",
    "\n",
    "import numpy as np\n",
    "import matplotlib.pyplot as plt\n",
    "import math\n",
    "\n",
    "import qcodes as qc\n",
    "from qcodes.dataset import (\n",
    "    Measurement,\n",
    "    initialise_or_create_database_at,\n",
    "    load_by_guid,\n",
    "    load_by_run_spec,\n",
    "    load_or_create_experiment,\n",
    "    plot_dataset,\n",
    ")\n",
    "from qcodes.dataset.descriptions.detect_shapes import detect_shape_of_measurement\n",
    "from qcodes.logger import start_all_logging\n",
    "start_all_logging()\n",
    "\n",
    "from scipy.optimize import curve_fit\n",
    "import numpy as np\n",
    "\n",
    "from ultolib import (anritsu, korad, spincore)\n",
    "from ultolib.spincore import pulse\n",
    "import qcodes.instrument_drivers.stanford_research as stanford_research"
   ]
  },
  {
   "cell_type": "code",
   "execution_count": 1,
   "id": "2c1d277a-1864-4a02-8dda-2ff32ee0acb2",
   "metadata": {},
   "outputs": [
    {
     "name": "stdout",
     "output_type": "stream",
     "text": [
      "Logging hadn't been started.\n",
      "Activating auto-logging. Current session state plus future input saved.\n",
      "Filename       : C:\\Users\\nv-group01\\.qcodes\\logs\\command_history.log\n",
      "Mode           : append\n",
      "Output logging : True\n",
      "Raw input log  : False\n",
      "Timestamping   : True\n",
      "State          : active\n",
      "Qcodes Logfile : C:\\Users\\nv-group01\\.qcodes\\logs\\240506-27908-qcodes.log\n"
     ]
    }
   ],
   "source": [
    "%matplotlib inline\n",
    "from pathlib import Path\n",
    "from time import monotonic, sleep\n",
    "\n",
    "import numpy as np\n",
    "import matplotlib.pyplot as plt\n",
    "import math\n",
    "\n",
    "import qcodes as qc\n",
    "from qcodes.dataset import (\n",
    "    Measurement,\n",
    "    initialise_or_create_database_at,\n",
    "    load_by_guid,\n",
    "    load_by_run_spec,\n",
    "    load_or_create_experiment,\n",
    "    plot_dataset,\n",
    ")\n",
    "from qcodes.dataset.descriptions.detect_shapes import detect_shape_of_measurement\n",
    "from qcodes.logger import start_all_logging\n",
    "start_all_logging()\n",
    "\n",
    "from scipy.optimize import curve_fit\n",
    "import numpy as np\n",
    "\n",
    "from ultolib import (anritsu, korad, spincore)\n",
    "from ultolib.spincore import pulse\n",
    "import qcodes.instrument_drivers.stanford_research as stanford_research"
   ]
  },
  {
   "cell_type": "code",
   "execution_count": 2,
   "id": "409c6c5d-6636-4e85-8bfa-a01f95b021bb",
   "metadata": {},
   "outputs": [
    {
     "name": "stdout",
     "output_type": "stream",
     "text": [
      "Connected to: Stanford_Research_Systems SR830 (serial:s/n32132, firmware:ver1.07) in 0.34s\n",
      "Connected to: ANRITSU MG3681A (serial:6100146424, firmware:3.03) in 0.16s\n"
     ]
    },
    {
     "data": {
      "text/plain": [
       "0"
      ]
     },
     "execution_count": 2,
     "metadata": {},
     "output_type": "execute_result"
    }
   ],
   "source": [
    "pulse_blaster = spincore.PulseBlasterESRPRO(name='pulse_blaster', board_number=0)\n",
    "pulse_blaster.core_clock(500)                     #Sets the clock speed, \n",
    "                                                  #must be called immediately after connecting to the PulseBlaster\n",
    "lock_in_amp = stanford_research.SR830(name='lock_in_amp', address='ASRL5::INSTR', terminator='\\r')\n",
    "microwave_src=anritsu.MG3681A(name='microwave_src', address='ASRL4::INSTR', terminator='\\r\\n')\n",
    "microwave_src.output('OFF')\n",
    "pulse_blaster.stop()"
   ]
  },
  {
   "cell_type": "markdown",
   "id": "e3468603-858a-48ff-901a-14a667c39289",
   "metadata": {},
   "source": [
    "## Longitudinal $T_1$ Relaxation Time\n",
    "\n",
    "The laser pulse sequence for this task will need to be altered. The new pulse sequence will consist of pulses in the following order:\n",
    "1. Initialisation pulse of 500μs length. \n",
    "2. A first Readout pulse of 500μs length after a time delay τ.\n",
    "3. A second Readout pulse of same length that is 180◦ away from the first readout pulse.\n",
    "\n",
    "The delay τ can then be swept from 100μs to 10 ms to obtain a T1 signature exponential decay signal. Ideally we would only require one initialisation and one readout pulse. However, since our laser is also effectively modulated at the same frequency as the envelope, it would drown out the weak T1 signal. Think about what signal component the lock-in apmplifier measures from the spin signal and from the photoluminescence signal. This experiment requires a very low reference frequency ('ref_f' = 21 Hz). This is because the pulses separated by the delay τ must be able to fit within the envelope period, and the idle time after the pulses needs to be much longer than T1."
   ]
  },
  {
   "cell_type": "code",
   "execution_count": 3,
   "id": "7037456a-082b-4646-be99-ef6f4d90bfe5",
   "metadata": {},
   "outputs": [
    {
     "data": {
      "text/plain": [
       "<qcodes.dataset.measurements.Measurement at 0x1e3a26019d0>"
      ]
     },
     "execution_count": 3,
     "metadata": {},
     "output_type": "execute_result"
    }
   ],
   "source": [
    "#Use this to make a parameter out of anything!\n",
    "tau = qc.ManualParameter('tau', unit='s')\n",
    "voltage = qc.ManualParameter('voltage', unit='V')\n",
    "\n",
    "#We start by stopping the laser pulsing. This way we can properly initialize.\n",
    "initialise_or_create_database_at(Path.cwd() / \"T1 Experiment.db\")\n",
    "exp = load_or_create_experiment( #experiment not exp\n",
    "    experiment_name='T1 Experiment',\n",
    "    sample_name=\"\"\n",
    ")\n",
    "\n",
    "meas = Measurement(exp=exp, name='T1 Experiment')\n",
    "meas.register_parameter(tau)  # register the first independent parameter\n",
    "meas.register_parameter(voltage)  # now register the dependent oone"
   ]
  },
  {
   "cell_type": "code",
   "execution_count": 4,
   "id": "3113e826",
   "metadata": {},
   "outputs": [
    {
     "data": {
      "text/plain": [
       "0.00198"
      ]
     },
     "execution_count": 4,
     "metadata": {},
     "output_type": "execute_result"
    }
   ],
   "source": [
    "(10e-3 - 100e-6)/5"
   ]
  },
  {
   "cell_type": "code",
   "execution_count": 11,
   "id": "0d1fafd5-7ad8-41de-a531-13dda1416129",
   "metadata": {},
   "outputs": [
    {
     "data": {
      "image/png": "[encoded data removed]",
      "text/plain": [
       "<Figure size 640x480 with 2 Axes>"
      ]
     },
     "metadata": {},
     "output_type": "display_data"
    }
   ],
   "source": [
    "#Stop the pulse blaster so that we can let the states equilibriate and then sweep after initializing.\n",
    "pulse_blaster.stop()\n",
    "tau_0 =  100e-6    #starting tau in seconds\n",
    "tau_f =  10e-3   #Ending tau in seconds\n",
    "stepsize = 0.0005  #stepsize in seconds\n",
    "\n",
    "ref_f = 21\n",
    "ref_D = 0.5\n",
    "T_ref_on = ref_D/ref_f\n",
    "T_ref_off = (1 - ref_D)/ref_f\n",
    "\n",
    "T_laser_on = 500e-6 #Chosen for signal resolution, as we are only doing 1 experiment under the reference for a long reference time.\n",
    "T_laser_off = 1/(2*ref_f) - T_laser_on #500e-6\n",
    "def T_idle(tau):\n",
    "    return 1/(2*ref_f) - (2*T_laser_on + tau)\n",
    "#TODO: Write the required wait time as a function of tau.\n",
    "lock_in_amp.time_constant(3)#time constant here)\n",
    "lock_in_amp.sensitivity(10e-3)#sensativity here)\n",
    "\n",
    "def T1_PP(tau):\n",
    "    pulse_blaster.reset_channel_buffer()  #Clear the previous pulse sequence.\n",
    "    pulse_blaster.ch2.pulse_sequence_buffer.set(\n",
    "        [pulse(level=1, duration=T_ref_on), pulse(level=0, duration=T_ref_off)]\n",
    "    )                                     #Define the new pulse sequence for channel 0.\n",
    "    pulse_blaster.ch3.pulse_sequence_buffer.set(\n",
    "        [pulse(level=1, duration=T_laser_on), pulse(level=0, duration=tau), \n",
    "         pulse(level=1, duration=T_laser_on), pulse(level=0, duration=T_idle(tau)),\n",
    "         pulse(level=1, duration=T_laser_on), pulse(level=0, duration=T_laser_off)]\n",
    "    )                                     #Define the new pulse sequence for channel 1.\n",
    "\n",
    "T1_PP(tau_f)\n",
    "pulse_blaster.plot_channel_buffer()   #This function plots the newly defined pulse sequence."
   ]
  },
  {
   "cell_type": "code",
   "execution_count": 12,
   "id": "f3a66be7",
   "metadata": {},
   "outputs": [],
   "source": [
    "pulse_blaster.flush_channel_buffer()"
   ]
  },
  {
   "cell_type": "code",
   "execution_count": 7,
   "id": "48e162ff",
   "metadata": {},
   "outputs": [
    {
     "data": {
      "text/plain": [
       "19"
      ]
     },
     "execution_count": 7,
     "metadata": {},
     "output_type": "execute_result"
    }
   ],
   "source": [
    "len(list(range(0, int((tau_f - tau_0)/stepsize))))"
   ]
  },
  {
   "cell_type": "code",
   "execution_count": 8,
   "id": "f5aa495a-2812-4c5a-92c7-5d83137fb932",
   "metadata": {},
   "outputs": [
    {
     "name": "stdout",
     "output_type": "stream",
     "text": [
      "Starting experimental run with id: 7. \n",
      "0.0001\n",
      "0.0006000000000000001\n",
      "0.0011\n",
      "0.0016\n",
      "0.0021\n",
      "0.0026\n",
      "0.0031\n",
      "0.0036\n",
      "0.0041\n",
      "0.004600000000000001\n",
      "0.0051\n"
     ]
    },
    {
     "ename": "KeyboardInterrupt",
     "evalue": "",
     "output_type": "error",
     "traceback": [
      "\u001b[1;31m---------------------------------------------------------------------------\u001b[0m",
      "\u001b[1;31mKeyboardInterrupt\u001b[0m                         Traceback (most recent call last)",
      "Cell \u001b[1;32mIn[8], line 14\u001b[0m\n\u001b[0;32m     12\u001b[0m     sleep(\u001b[38;5;241m16\u001b[39m\u001b[38;5;241m*\u001b[39mlock_in_amp\u001b[38;5;241m.\u001b[39mtime_constant())\n\u001b[0;32m     13\u001b[0m \u001b[38;5;28;01melse\u001b[39;00m:\n\u001b[1;32m---> 14\u001b[0m     sleep(\u001b[38;5;241m8\u001b[39m\u001b[38;5;241m*\u001b[39mlock_in_amp\u001b[38;5;241m.\u001b[39mtime_constant())\n\u001b[0;32m     15\u001b[0m \u001b[38;5;66;03m###############################\u001b[39;00m\n\u001b[0;32m     16\u001b[0m \u001b[38;5;66;03m#Specify the data being saved below\u001b[39;00m\n\u001b[0;32m     17\u001b[0m datasaver\u001b[38;5;241m.\u001b[39madd_result((tau, tau_cur),\n\u001b[0;32m     18\u001b[0m                      (voltage, lock_in_amp\u001b[38;5;241m.\u001b[39mR()))\n",
      "\u001b[1;31mKeyboardInterrupt\u001b[0m: "
     ]
    }
   ],
   "source": [
    "#Microwave needs to be off, so this is just to be sure it is.\n",
    "with meas.run() as datasaver:\n",
    "    for i in list(range(0, int((tau_f - tau_0)/stepsize))):\n",
    "        #Reinitialize the pulse sequence with the new tau.\n",
    "        #This is a good approach to initializing a new pulse sequence in a loop.\n",
    "        tau_cur = i*stepsize + tau_0\n",
    "        print(tau_cur)\n",
    "        T1_PP(tau_cur)\n",
    "        pulse_blaster.flush_channel_buffer()\n",
    "        #For getting your first data point with a new sequence, it helps to give the LIA more time to settle to drastic changes in input data.\n",
    "        if i == 0:\n",
    "            sleep(16*lock_in_amp.time_constant())\n",
    "        else:\n",
    "            sleep(8*lock_in_amp.time_constant())\n",
    "        ###############################\n",
    "        #Specify the data being saved below\n",
    "        datasaver.add_result((tau, tau_cur),\n",
    "                             (voltage, lock_in_amp.R()))\n",
    "        ###############################\n",
    "    T1 = datasaver.dataset  # convenient to have for data access and plotting\n",
    "pulse_blaster.stop()\n",
    "T1_data = T1.to_pandas_dataframe()\n",
    "plt.plot(T1_data[\"tau\"], T1_data[\"voltage\"])\n",
    "plt.xlabel('tau(s)')\n",
    "plt.ylabel('voltage(V)')\n",
    "plt.title('tau vs Voltage')\n",
    "plt.show()"
   ]
  },
  {
   "cell_type": "markdown",
   "id": "27c4ddd7-7e7d-447d-b350-fe230d6cd057",
   "metadata": {},
   "source": [
    "To extract the $T_1$ time the decay must be fit. Below we define the fit model as a decaying exponential of the form $ae^{-\\frac{\\tau}{T_1}} + c$. Here, $a$ defines the magnitude of the spin signal at $\\tau = 0$. i.e. the spin is fully polarised in the $|0\\rangle$ state and $c$ is the offset photoluminescence. We define the fit model as a python function, with first argument $\\tau$ (labeled as 'x' in the code) and the next three arguments are $a, T_1, c$. Our aim is to find the $\\{a, T_1, c\\}$ which produces a curve which most closely matches the experimental data. As this is non-linear fit, we must also provide the initial guess for the fit parameters $\\{a, T_1, c\\}$. This is an array of the $[{a}, {T_1}, {c}]$. From the data you have measured, choose the appropriate start points and fit the function. Extract the T1 value along with the associated error in the measurement."
   ]
  },
  {
   "cell_type": "code",
   "execution_count": null,
   "id": "8b0d5150-f805-4f29-8a74-bc1dd029f56a",
   "metadata": {},
   "outputs": [],
   "source": [
    "initial_fit_params = [#a, T1, c]\n",
    "def fit_model(x, a, b, c):\n",
    "    return a * np.exp(-1.0 * x / b) + c"
   ]
  }
 ],
 "metadata": {
  "kernelspec": {
   "display_name": "Python 3 (ipykernel)",
   "language": "python",
   "name": "python3"
  },
  "language_info": {
   "codemirror_mode": {
    "name": "ipython",
    "version": 3
   },
   "file_extension": ".py",
   "mimetype": "text/x-python",
   "name": "python",
   "nbconvert_exporter": "python",
   "pygments_lexer": "ipython3",
   "version": "3.12.2"
  }
 },
 "nbformat": 4,
 "nbformat_minor": 5
}
