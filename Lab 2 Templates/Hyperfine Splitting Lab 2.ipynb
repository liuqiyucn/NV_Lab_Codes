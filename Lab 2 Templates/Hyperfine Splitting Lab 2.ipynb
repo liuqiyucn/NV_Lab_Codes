{
 "cells": [
  {
   "cell_type": "code",
   "execution_count": 1,
   "id": "e1137f63-4566-4ff2-8798-e8a7b810cdf5",
   "metadata": {
    "tags": []
   },
   "outputs": [
    {
     "name": "stdout",
     "output_type": "stream",
     "text": [
      "Logging hadn't been started.\n",
      "Activating auto-logging. Current session state plus future input saved.\n",
      "Filename       : C:\\Users\\nv-group01\\.qcodes\\logs\\command_history.log\n",
      "Mode           : append\n",
      "Output logging : True\n",
      "Raw input log  : False\n",
      "Timestamping   : True\n",
      "State          : active\n",
      "Qcodes Logfile : C:\\Users\\nv-group01\\.qcodes\\logs\\240606-26828-qcodes.log\n"
     ]
    }
   ],
   "source": [
    "%matplotlib inline\n",
    "from pathlib import Path\n",
    "from time import monotonic, sleep\n",
    "\n",
    "import numpy as np\n",
    "import matplotlib.pyplot as plt\n",
    "import math\n",
    "\n",
    "import qcodes as qc\n",
    "from qcodes.dataset import (\n",
    "    Measurement,\n",
    "    initialise_or_create_database_at,\n",
    "    load_by_guid,\n",
    "    load_by_run_spec,\n",
    "    load_or_create_experiment,\n",
    "    plot_dataset,\n",
    ")\n",
    "from qcodes.dataset.descriptions.detect_shapes import detect_shape_of_measurement\n",
    "from qcodes.logger import start_all_logging\n",
    "start_all_logging()\n",
    "\n",
    "from scipy.optimize import curve_fit\n",
    "import numpy as np\n",
    "\n",
    "from ultolib import (anritsu, korad, spincore)\n",
    "from ultolib.spincore import pulse\n",
    "import qcodes.instrument_drivers.stanford_research as stanford_research"
   ]
  },
  {
   "cell_type": "code",
   "execution_count": 2,
   "id": "3f90313d-56a0-4a22-ba8e-78b3490d9df8",
   "metadata": {
    "tags": []
   },
   "outputs": [
    {
     "name": "stdout",
     "output_type": "stream",
     "text": [
      "Connected to: Stanford_Research_Systems SR830 (serial:s/n32132, firmware:ver1.07) in 0.88s\n",
      "Connected to: ANRITSU MG3681A (serial:6100146424, firmware:3.03) in 0.16s\n",
      "Connected to: KORAD KD3005P V6.7 SN 48562561 (serial:None, firmware:None) in 0.06s\n"
     ]
    },
    {
     "data": {
      "text/plain": [
       "0"
      ]
     },
     "execution_count": 2,
     "metadata": {},
     "output_type": "execute_result"
    }
   ],
   "source": [
    "# Note : this will generate two deprecation warnings when creating the pulse_blaster\n",
    "pulse_blaster = spincore.PulseBlasterESRPRO(name='pulse_blaster', board_number=0)\n",
    "pulse_blaster.core_clock(500)                     #Sets the clock speed, \n",
    "                                                  #must be called immediately after connecting to the PulseBlaster\n",
    "lock_in_amp = stanford_research.SR830(name='lock_in_amp', address='ASRL5::INSTR', terminator='\\r')\n",
    "\n",
    "microwave_src=anritsu.MG3681A(name='microwave_src', address='ASRL4::INSTR', terminator='\\r\\n')\n",
    "microwave_src.output('OFF')\n",
    "microwave_src.output_level_unit('dBm')\n",
    "microwave_src.IQ_modulation('EXT')\n",
    "\n",
    "dc_supply = korad.KD3305P('dc_supply', 'ASRL6::INSTR')\n",
    "dc_supply.ch1.voltage_setpoint(0)\n",
    "dc_supply.ch1.current_setpoint(0)\n",
    "\n",
    "pulse_blaster.stop()"
   ]
  },
  {
   "cell_type": "markdown",
   "id": "30de493f-7070-436e-b5b7-8ae052ffa7b8",
   "metadata": {},
   "source": [
    "## Task 2.3: The Hyperfine Splitting\n",
    "\n",
    "The negatively charged vacancy in the NV center couples to the spin of its 14N nuclei which is a non-zero spin system. This will lead to further splitting of the electronic energy levels, known as hyperfine splitting.\n",
    "\n",
    "For this task set the magnetic field to 0.005 T. \n",
    "\n",
    "Note: For this task, Task 2.2 must have been completed and the coil_constant determined."
   ]
  },
  {
   "cell_type": "code",
   "execution_count": 3,
   "id": "860ac341-5e38-4710-a5c2-3d64d560b360",
   "metadata": {
    "tags": []
   },
   "outputs": [],
   "source": [
    "coil_constant =  0.01 #Coil constant value determined in ODMR Magnetometry lab\n",
    "B0 = 0.005\n",
    "I0 = B0/coil_constant\n",
    "dc_supply.ch1.voltage_setpoint(12)\n",
    "dc_supply.ch1.current_setpoint(I0)"
   ]
  },
  {
   "cell_type": "markdown",
   "id": "d4ae688c-76cb-4981-a6a4-34adbffb1d33",
   "metadata": {},
   "source": [
    "Perform an ODMR experiment to find the resonance peak at the highest frequency. Ensure that the coil current is not so high that the resonance of the peak exceeds 3 GHz. If that is the case, lower the B0 in the above code cell. You can consult your ODMR map to get an idea about the frequency range. For this ODMR peak, we will perform a high resolution ODMR scan centered around the chosen peak. Enter the values for the minimum and maximum frequencies to be scanned in the spectrum, below. Initially, it may help to scan a larger range in order to locqate the peak and then tighten the range to get a better scan.\n",
    "\n",
    "Repeat this experiment for microwave powers 9 dbm, 6 dBm and -3 dB. You may have to increase the lock-in amplifier time constant at -3 dBm.\n",
    "**The microwave frequency must be $\\leq 3$ GHz.**"
   ]
  },
  {
   "cell_type": "code",
   "execution_count": 4,
   "id": "d54eca02-1aab-4270-98ab-8a4a307b937b",
   "metadata": {
    "tags": []
   },
   "outputs": [
    {
     "data": {
      "text/plain": [
       "<qcodes.dataset.measurements.Measurement at 0x14c8783ea50>"
      ]
     },
     "execution_count": 4,
     "metadata": {},
     "output_type": "execute_result"
    }
   ],
   "source": [
    "#Use this to make a parameter out of anything!\n",
    "MW= qc.ManualParameter('Frequency', unit='Hz')\n",
    "LI_R = qc.ManualParameter('Signal', unit='V')\n",
    "\n",
    "#We start by stopping the laser pulsing. This way we can properly initialize.\n",
    "initialise_or_create_database_at(Path.cwd() / \"Hyperfine Splitting.db\")\n",
    "experiment = load_or_create_experiment(\n",
    "    experiment_name='Hyperfine Splitting',\n",
    "    sample_name=\"\"\n",
    ")\n",
    "\n",
    "meas = Measurement(exp=experiment, name='Hyperfine Splitting')\n",
    "meas.register_parameter(MW)  # register the first independent parameter\n",
    "meas.register_parameter(LI_R) # now register the dependent one"
   ]
  },
  {
   "cell_type": "code",
   "execution_count": 5,
   "id": "b1cc858d-3334-4c96-a6f3-fc7c74c30be5",
   "metadata": {
    "tags": []
   },
   "outputs": [
    {
     "data": {
      "image/png": "[encoded data removed]",
      "text/plain": [
       "<Figure size 640x480 with 3 Axes>"
      ]
     },
     "metadata": {},
     "output_type": "display_data"
    }
   ],
   "source": [
    "ref_f = 200                                 #Reference frequency.\n",
    "ref_D =  0.5                                #Reference duty cycle.\n",
    "T_ref_on =  ref_D/ref_f                             #Reference time on.\n",
    "T_ref_off =  (1-ref_D) / ref_f                            #Reference time off.\n",
    "\n",
    "\n",
    "laser_f =  100e3                              #Laser modulation frequency.\n",
    "laser_D =  0.3                              #Laser modulation duty cycle.\n",
    "T_laser_on =  laser_D/laser_f                           #Laser on time. \n",
    "T_laser_off =  (1-laser_D)/laser_f                          #Laser off time.\n",
    "N_laser_pulses =  round(laser_f/ref_f)                       #Number of laser pulses that can fit in the reference period.\n",
    "\n",
    "mw_f =  laser_f                                 #Microwave modulation frequency.\n",
    "mw_D =  laser_D                                 #Microwave modulation duty cycle.\n",
    "T_mw_on =  (1-laser_D)/laser_f                             #Microwave time on.\n",
    "T_mw_off =  laser_D/laser_f                             #Microwave time off.\n",
    "N_mw_pulses =  round(laser_f/(ref_f*2))                          #Number of microwave pulses that can fit in the reference period.\n",
    "\n",
    "tau = 1e-6\n",
    "\n",
    "# T_padding = \n",
    "# T_mw_off -= T_padding\n",
    "\n",
    "def Hyperfine_Splitting_PP():\n",
    "    pulse_blaster.reset_channel_buffer()  #Clear the previous pulse sequence.\n",
    "    pulse_blaster.ch0.pulse_sequence_buffer.set(\n",
    "        [pulse(level=1, duration=T_ref_on), pulse(level=0, duration=T_ref_off)]\n",
    "    )                                     #Define the new pulse sequence for channel 0.\n",
    "    pulse_blaster.ch1.pulse_sequence_buffer.set(\n",
    "        [[pulse(level=1, duration=T_laser_on), pulse(level=0, duration=T_laser_off)] for i in range(0, N_laser_pulses)]   \n",
    "    #TODO: Enter the laser pulse sequence.\n",
    "        \n",
    "    )                                     #Define the new pulse sequence for channel 1.\n",
    "    pulse_blaster.ch2.pulse_sequence_buffer.set(\n",
    "        [[pulse(level=0, duration=T_mw_off+tau), pulse(level=1, duration= T_mw_on-2*tau),  pulse(level=0, duration=tau)] for i in range(0, N_mw_pulses)] +\n",
    "        [pulse(level=0, duration=float(1/(2*ref_f)))]\n",
    "    )                                     #Define the new pulse sequence for channel 2.\n",
    "\n",
    "Hyperfine_Splitting_PP()\n",
    "pulse_blaster.plot_channel_buffer()"
   ]
  },
  {
   "cell_type": "code",
   "execution_count": 6,
   "id": "66252d66-3dbc-44c5-b80b-7d7c95ba380a",
   "metadata": {
    "tags": []
   },
   "outputs": [],
   "source": [
    "pulse_blaster.stop()\n",
    "microwave_src.output('OFF')\n",
    "\n",
    "lock_in_amp.time_constant(3)\n",
    "lock_in_amp.sensitivity(100e-12)\n",
    "\n",
    "#TODO: Enter the ODMR frequency range.\n",
    "#NOTE: Must not be > 3 GHz (why not? Couldn't we interleave the channels part way through to look at a larger range?)\n",
    "#TODO: Enter the ODMR frequency range.\n",
    "min_frequency = 2.760e9#2.751616e+09#2.6e9                  #Minimum frequency for the spectrum\n",
    "max_frequency = 2.770e9#2.777778e+09#3e9                  #Maximum frequency for the spectrum, #Must not be > 3 GHz.\n",
    "num_freq_step = 200\n",
    "freqs = np.linspace(min_frequency, max_frequency, num_freq_step)"
   ]
  },
  {
   "cell_type": "code",
   "execution_count": 7,
   "id": "3bb34980",
   "metadata": {},
   "outputs": [],
   "source": [
    "result = []"
   ]
  },
  {
   "cell_type": "code",
   "execution_count": 8,
   "id": "424e093d-777a-43d2-ae8f-8bfe338d0b8e",
   "metadata": {
    "tags": []
   },
   "outputs": [
    {
     "name": "stdout",
     "output_type": "stream",
     "text": [
      "Starting experimental run with id: 18. \n"
     ]
    }
   ],
   "source": [
    "#Run the experiment\n",
    "microwave_src.IQ_modulation('EXT')\n",
    "microwave_src.output('ON')\n",
    "Hyperfine_Splitting_PP()\n",
    "pulse_blaster.flush_channel_buffer()\n",
    "\n",
    "# change power = [-3, 6, 9]\n",
    "powers = [-15]\n",
    "freq_range = [] # list of tuple\n",
    "#result = []\n",
    "Hyperfine_Splitting_PP()\n",
    "\n",
    "for power in powers:\n",
    "    microwave_src.power(power)\n",
    "    with meas.run() as datasaver:\n",
    "        for i in range(freqs.size):\n",
    "            microwave_src.frequency(freqs[i])\n",
    "            pulse_blaster.flush_channel_buffer()\n",
    "            ##########################\n",
    "            #Your experiment code here\n",
    "            if i == 0:\n",
    "                sleep(16*lock_in_amp.time_constant())\n",
    "            else:\n",
    "                sleep(8*lock_in_amp.time_constant())\n",
    "            ##########################\n",
    "            datasaver.add_result((MW, freqs[i]),\n",
    "                                (LI_R, lock_in_amp.R()))\n",
    "        \n",
    "        \n",
    "        ODMR_data = datasaver.dataset\n",
    "        result.append(ODMR_data)"
   ]
  },
  {
   "cell_type": "code",
   "execution_count": 9,
   "id": "7b12ada3",
   "metadata": {},
   "outputs": [],
   "source": [
    "def plot_vertical_lines(x_positions, ymin, ymax):\n",
    "    for x in x_positions:\n",
    "        plt.axvline(x=x, color='r', linestyle='--')  # Adjust color and linestyle as needed\n",
    "    plt.ylim(ymin, ymax)  # Adjust y-axis limits as needed\n",
    "\n",
    "def find_local_maxima(func_values, window_size=3, tolerance=0):\n",
    "    maxima = []\n",
    "    n = len(func_values)\n",
    "    if n < window_size:\n",
    "        return maxima  # Not enough elements to find local maxima\n",
    "\n",
    "    for i in range(n):\n",
    "        left = max(0, i - window_size // 2)\n",
    "        right = min(n, i + window_size // 2 + 1)\n",
    "        if func_values[i] >= max(func_values[left:right]) + tolerance:\n",
    "            # maxima.append((i, func_values[i]))\n",
    "            maxima.append((i))\n",
    "    return maxima"
   ]
  },
  {
   "cell_type": "code",
   "execution_count": 14,
   "id": "c823e6f6",
   "metadata": {},
   "outputs": [],
   "source": [
    "ODMR_data = result[0]"
   ]
  },
  {
   "cell_type": "code",
   "execution_count": 17,
   "id": "0ee7da8e",
   "metadata": {},
   "outputs": [],
   "source": [
    "df = ODMR_data.to_pandas_dataframe()"
   ]
  },
  {
   "cell_type": "code",
   "execution_count": 18,
   "id": "ecee3fdf",
   "metadata": {},
   "outputs": [
    {
     "data": {
      "text/html": [
       "<div>\n",
       "<style scoped>\n",
       "    .dataframe tbody tr th:only-of-type {\n",
       "        vertical-align: middle;\n",
       "    }\n",
       "\n",
       "    .dataframe tbody tr th {\n",
       "        vertical-align: top;\n",
       "    }\n",
       "\n",
       "    .dataframe thead th {\n",
       "        text-align: right;\n",
       "    }\n",
       "</style>\n",
       "<table border=\"1\" class=\"dataframe\">\n",
       "  <thead>\n",
       "    <tr style=\"text-align: right;\">\n",
       "      <th></th>\n",
       "      <th>Frequency</th>\n",
       "      <th>Signal</th>\n",
       "    </tr>\n",
       "  </thead>\n",
       "  <tbody>\n",
       "    <tr>\n",
       "      <th>0</th>\n",
       "      <td>2.763000e+09</td>\n",
       "      <td>8.082480e-12</td>\n",
       "    </tr>\n",
       "    <tr>\n",
       "      <th>1</th>\n",
       "      <td>2.763035e+09</td>\n",
       "      <td>8.135770e-12</td>\n",
       "    </tr>\n",
       "    <tr>\n",
       "      <th>2</th>\n",
       "      <td>2.763070e+09</td>\n",
       "      <td>8.345380e-12</td>\n",
       "    </tr>\n",
       "    <tr>\n",
       "      <th>3</th>\n",
       "      <td>2.763106e+09</td>\n",
       "      <td>8.501700e-12</td>\n",
       "    </tr>\n",
       "    <tr>\n",
       "      <th>4</th>\n",
       "      <td>2.763141e+09</td>\n",
       "      <td>8.483940e-12</td>\n",
       "    </tr>\n",
       "    <tr>\n",
       "      <th>...</th>\n",
       "      <td>...</td>\n",
       "      <td>...</td>\n",
       "    </tr>\n",
       "    <tr>\n",
       "      <th>195</th>\n",
       "      <td>2.769859e+09</td>\n",
       "      <td>3.829850e-12</td>\n",
       "    </tr>\n",
       "    <tr>\n",
       "      <th>196</th>\n",
       "      <td>2.769894e+09</td>\n",
       "      <td>3.836960e-12</td>\n",
       "    </tr>\n",
       "    <tr>\n",
       "      <th>197</th>\n",
       "      <td>2.769930e+09</td>\n",
       "      <td>3.737480e-12</td>\n",
       "    </tr>\n",
       "    <tr>\n",
       "      <th>198</th>\n",
       "      <td>2.769965e+09</td>\n",
       "      <td>3.773010e-12</td>\n",
       "    </tr>\n",
       "    <tr>\n",
       "      <th>199</th>\n",
       "      <td>2.770000e+09</td>\n",
       "      <td>3.733930e-12</td>\n",
       "    </tr>\n",
       "  </tbody>\n",
       "</table>\n",
       "<p>200 rows × 2 columns</p>\n",
       "</div>"
      ],
      "text/plain": [
       "        Frequency        Signal\n",
       "0    2.763000e+09  8.082480e-12\n",
       "1    2.763035e+09  8.135770e-12\n",
       "2    2.763070e+09  8.345380e-12\n",
       "3    2.763106e+09  8.501700e-12\n",
       "4    2.763141e+09  8.483940e-12\n",
       "..            ...           ...\n",
       "195  2.769859e+09  3.829850e-12\n",
       "196  2.769894e+09  3.836960e-12\n",
       "197  2.769930e+09  3.737480e-12\n",
       "198  2.769965e+09  3.773010e-12\n",
       "199  2.770000e+09  3.733930e-12\n",
       "\n",
       "[200 rows x 2 columns]"
      ]
     },
     "execution_count": 18,
     "metadata": {},
     "output_type": "execute_result"
    }
   ],
   "source": [
    "df"
   ]
  },
  {
   "cell_type": "code",
   "execution_count": 19,
   "id": "2255e26f",
   "metadata": {},
   "outputs": [
    {
     "data": {
      "text/plain": [
       "[<matplotlib.lines.Line2D at 0x14c8b7f2390>]"
      ]
     },
     "execution_count": 19,
     "metadata": {},
     "output_type": "execute_result"
    },
    {
     "data": {
      "image/png": "[encoded data removed]",
      "text/plain": [
       "<Figure size 640x480 with 1 Axes>"
      ]
     },
     "metadata": {},
     "output_type": "display_data"
    }
   ],
   "source": [
    "plt.plot(df['Frequency'], df['Signal'])"
   ]
  },
  {
   "cell_type": "code",
   "execution_count": 24,
   "id": "008b5de2",
   "metadata": {},
   "outputs": [],
   "source": [
    "df.to_csv(f'Hyperfine_{np.round(min_frequency/1e9, 5)}_{np.round(max_frequency/1e9, 6)}.csv')"
   ]
  },
  {
   "cell_type": "code",
   "execution_count": 22,
   "id": "3245a628",
   "metadata": {},
   "outputs": [
    {
     "data": {
      "text/plain": [
       "'c:\\\\Users\\\\nv-group01\\\\Documents\\\\NV_Lab_Codes\\\\Lab 2 Templates'"
      ]
     },
     "execution_count": 22,
     "metadata": {},
     "output_type": "execute_result"
    }
   ],
   "source": [
    "%pwd"
   ]
  },
  {
   "cell_type": "code",
   "execution_count": 11,
   "id": "55d2a022",
   "metadata": {},
   "outputs": [],
   "source": [
    "# ODMR_data = result[0]\n",
    "# ODMR = ODMR_data.to_pandas_dataframe()\n",
    "# ODMR = ODMR_data.to_pandas_dataframe()\n",
    "# indices = find_local_maxima(ODMR['Signal'], window_size=3)# tolerance=0.01e-11) \n",
    "# signal = ODMR['Signal']\n",
    "# peaks = [freqs[i] for i in indices if signal[i] > 0.13e-11]"
   ]
  },
  {
   "cell_type": "code",
   "execution_count": 12,
   "id": "9cf6ea66",
   "metadata": {},
   "outputs": [],
   "source": [
    "# ODMR.to_csv(\"hyperfine_data/-9db.csv\")"
   ]
  },
  {
   "cell_type": "code",
   "execution_count": 13,
   "id": "f0894aa7",
   "metadata": {},
   "outputs": [],
   "source": [
    "# import pandas as pd\n",
    "# df = []\n",
    "# for power in [-3, -9, 6, 9]:\n",
    "#     df.append(pd.read_csv(f\"./hyperfine_data/{power}db.csv\"))"
   ]
  },
  {
   "cell_type": "markdown",
   "id": "9ad679bf",
   "metadata": {},
   "source": [
    "powers = [-3, -9, 6, 9]"
   ]
  },
  {
   "cell_type": "markdown",
   "id": "2b8535c7",
   "metadata": {},
   "source": [
    "\n",
    "import numpy as np\n",
    "import matplotlib.pyplot as plt\n",
    "import math"
   ]
  },
  {
   "cell_type": "markdown",
   "id": "4e958148",
   "metadata": {},
   "source": [
    "for ODMR, power in zip(df, powers):\n",
    "    plt.plot(ODMR[\"Frequency\"], ODMR[\"Signal\"])\n",
    "    plt.xlabel('Frequency(Hz)')\n",
    "    plt.ylabel('Signal(V)')\n",
    "    plt.title(f'Hyperfine Splitting ({power}dBm)')\n",
    "    #plt.xlim(2.7630e9, 2.7680e9)\n",
    "    if power == -9:\n",
    "        plt.xlim(2.7628e9, 2.7690e9)\n",
    "    plt.savefig(f\"./hyperfine_pics/hyperfine_{power}.png\")\n",
    "    plt.show()"
   ]
  }
 ],
 "metadata": {
  "kernelspec": {
   "display_name": "Python 3 (ipykernel)",
   "language": "python",
   "name": "python3"
  },
  "language_info": {
   "codemirror_mode": {
    "name": "ipython",
    "version": 3
   },
   "file_extension": ".py",
   "mimetype": "text/x-python",
   "name": "python",
   "nbconvert_exporter": "python",
   "pygments_lexer": "ipython3",
   "version": "3.12.2"
  }
 },
 "nbformat": 4,
 "nbformat_minor": 5
}
